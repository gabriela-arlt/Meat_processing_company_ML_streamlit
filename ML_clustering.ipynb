{
 "cells": [
  {
   "cell_type": "code",
   "execution_count": 81,
   "metadata": {},
   "outputs": [],
   "source": [
    "import pandas as pd\n",
    "import datetime as dt\n",
    "import seaborn as sns\n",
    "import pandas as pd\n",
    "import matplotlib.pyplot as plt\n",
    "from sklearn.cluster import KMeans\n",
    "from sklearn.preprocessing import StandardScaler\n",
    "from sklearn.metrics import silhouette_score\n",
    "import plotly.express as px"
   ]
  },
  {
   "cell_type": "code",
   "execution_count": 82,
   "metadata": {},
   "outputs": [],
   "source": [
    "data = pd.read_excel('merged_clean.xlsx')"
   ]
  },
  {
   "cell_type": "code",
   "execution_count": 116,
   "metadata": {},
   "outputs": [
    {
     "data": {
      "text/html": [
       "<div>\n",
       "<style scoped>\n",
       "    .dataframe tbody tr th:only-of-type {\n",
       "        vertical-align: middle;\n",
       "    }\n",
       "\n",
       "    .dataframe tbody tr th {\n",
       "        vertical-align: top;\n",
       "    }\n",
       "\n",
       "    .dataframe thead th {\n",
       "        text-align: right;\n",
       "    }\n",
       "</style>\n",
       "<table border=\"1\" class=\"dataframe\">\n",
       "  <thead>\n",
       "    <tr style=\"text-align: right;\">\n",
       "      <th></th>\n",
       "      <th>Document_number</th>\n",
       "      <th>Order_date</th>\n",
       "      <th>Distribution_type</th>\n",
       "      <th>Partner_code</th>\n",
       "      <th>Product</th>\n",
       "      <th>Product_type</th>\n",
       "      <th>Payment_type</th>\n",
       "      <th>Quantity_measurement</th>\n",
       "      <th>Quantity</th>\n",
       "      <th>Unit_price</th>\n",
       "      <th>...</th>\n",
       "      <th>Customer_country</th>\n",
       "      <th>Address_updated</th>\n",
       "      <th>Latitude</th>\n",
       "      <th>Longitude</th>\n",
       "      <th>Adjusted_Sales</th>\n",
       "      <th>Is_weekend</th>\n",
       "      <th>Year</th>\n",
       "      <th>Month</th>\n",
       "      <th>CohortMonth</th>\n",
       "      <th>CohortIndex</th>\n",
       "    </tr>\n",
       "  </thead>\n",
       "  <tbody>\n",
       "    <tr>\n",
       "      <th>0</th>\n",
       "      <td>118099</td>\n",
       "      <td>2022-01-03</td>\n",
       "      <td>Експедиция - изход</td>\n",
       "      <td>2211000000011</td>\n",
       "      <td>Суджук за приятели</td>\n",
       "      <td>Сурово-сушени колбаси и деликатеси-&gt;Сурово-суш...</td>\n",
       "      <td>В брой</td>\n",
       "      <td>кг.</td>\n",
       "      <td>10.300</td>\n",
       "      <td>16.50</td>\n",
       "      <td>...</td>\n",
       "      <td>България</td>\n",
       "      <td>2016</td>\n",
       "      <td>44.114727</td>\n",
       "      <td>27.26719</td>\n",
       "      <td>169.95</td>\n",
       "      <td>False</td>\n",
       "      <td>2022</td>\n",
       "      <td>1</td>\n",
       "      <td>2022-01</td>\n",
       "      <td>0</td>\n",
       "    </tr>\n",
       "    <tr>\n",
       "      <th>1</th>\n",
       "      <td>118100</td>\n",
       "      <td>2022-01-03</td>\n",
       "      <td>Пласмент База</td>\n",
       "      <td>2282802584711</td>\n",
       "      <td>Хамбургски</td>\n",
       "      <td>Малотрайни колбаси</td>\n",
       "      <td>В брой</td>\n",
       "      <td>кг.</td>\n",
       "      <td>21.070</td>\n",
       "      <td>4.20</td>\n",
       "      <td>...</td>\n",
       "      <td>България</td>\n",
       "      <td>2016</td>\n",
       "      <td>44.114727</td>\n",
       "      <td>27.26719</td>\n",
       "      <td>88.49</td>\n",
       "      <td>False</td>\n",
       "      <td>2022</td>\n",
       "      <td>1</td>\n",
       "      <td>2022-01</td>\n",
       "      <td>0</td>\n",
       "    </tr>\n",
       "    <tr>\n",
       "      <th>2</th>\n",
       "      <td>118101</td>\n",
       "      <td>2022-01-03</td>\n",
       "      <td>Пласмент База</td>\n",
       "      <td>2211804214811</td>\n",
       "      <td>Пастърма натурална - ХТСХ парчета (вакуум)</td>\n",
       "      <td>Сурово-сушени колбаси и деликатеси-&gt;Сурово-суш...</td>\n",
       "      <td>В брой</td>\n",
       "      <td>кг.</td>\n",
       "      <td>0.320</td>\n",
       "      <td>41.40</td>\n",
       "      <td>...</td>\n",
       "      <td>България</td>\n",
       "      <td>2016</td>\n",
       "      <td>44.114727</td>\n",
       "      <td>27.26719</td>\n",
       "      <td>12.85</td>\n",
       "      <td>False</td>\n",
       "      <td>2022</td>\n",
       "      <td>1</td>\n",
       "      <td>2022-01</td>\n",
       "      <td>0</td>\n",
       "    </tr>\n",
       "    <tr>\n",
       "      <th>3</th>\n",
       "      <td>118101</td>\n",
       "      <td>2022-01-03</td>\n",
       "      <td>Пласмент База</td>\n",
       "      <td>2211804214811</td>\n",
       "      <td>Сланина ВП (вакуум)</td>\n",
       "      <td>Варено-пушени деликатеси</td>\n",
       "      <td>В брой</td>\n",
       "      <td>кг.</td>\n",
       "      <td>1.380</td>\n",
       "      <td>6.70</td>\n",
       "      <td>...</td>\n",
       "      <td>България</td>\n",
       "      <td>2016</td>\n",
       "      <td>44.114727</td>\n",
       "      <td>27.26719</td>\n",
       "      <td>8.97</td>\n",
       "      <td>False</td>\n",
       "      <td>2022</td>\n",
       "      <td>1</td>\n",
       "      <td>2022-01</td>\n",
       "      <td>0</td>\n",
       "    </tr>\n",
       "    <tr>\n",
       "      <th>4</th>\n",
       "      <td>118101</td>\n",
       "      <td>2022-01-03</td>\n",
       "      <td>Пласмент База</td>\n",
       "      <td>2211804214811</td>\n",
       "      <td>Пилешко печено вакуум</td>\n",
       "      <td>Полуфабрикати</td>\n",
       "      <td>В брой</td>\n",
       "      <td>кг.</td>\n",
       "      <td>0.470</td>\n",
       "      <td>12.55</td>\n",
       "      <td>...</td>\n",
       "      <td>България</td>\n",
       "      <td>2016</td>\n",
       "      <td>44.114727</td>\n",
       "      <td>27.26719</td>\n",
       "      <td>5.72</td>\n",
       "      <td>False</td>\n",
       "      <td>2022</td>\n",
       "      <td>1</td>\n",
       "      <td>2022-01</td>\n",
       "      <td>0</td>\n",
       "    </tr>\n",
       "    <tr>\n",
       "      <th>5</th>\n",
       "      <td>118101</td>\n",
       "      <td>2022-01-03</td>\n",
       "      <td>Пласмент База</td>\n",
       "      <td>2211804214811</td>\n",
       "      <td>Бургас (вакуум)</td>\n",
       "      <td>Трайни и полутрайни варено-пушени салами</td>\n",
       "      <td>В брой</td>\n",
       "      <td>кг.</td>\n",
       "      <td>1.746</td>\n",
       "      <td>10.60</td>\n",
       "      <td>...</td>\n",
       "      <td>България</td>\n",
       "      <td>2016</td>\n",
       "      <td>44.114727</td>\n",
       "      <td>27.26719</td>\n",
       "      <td>17.95</td>\n",
       "      <td>False</td>\n",
       "      <td>2022</td>\n",
       "      <td>1</td>\n",
       "      <td>2022-01</td>\n",
       "      <td>0</td>\n",
       "    </tr>\n",
       "    <tr>\n",
       "      <th>6</th>\n",
       "      <td>118101</td>\n",
       "      <td>2022-01-03</td>\n",
       "      <td>Пласмент База</td>\n",
       "      <td>2211804214811</td>\n",
       "      <td>Шунков шпек (вакуум)</td>\n",
       "      <td>Трайни и полутрайни варено-пушени салами</td>\n",
       "      <td>В брой</td>\n",
       "      <td>кг.</td>\n",
       "      <td>0.600</td>\n",
       "      <td>12.10</td>\n",
       "      <td>...</td>\n",
       "      <td>България</td>\n",
       "      <td>2016</td>\n",
       "      <td>44.114727</td>\n",
       "      <td>27.26719</td>\n",
       "      <td>7.04</td>\n",
       "      <td>False</td>\n",
       "      <td>2022</td>\n",
       "      <td>1</td>\n",
       "      <td>2022-01</td>\n",
       "      <td>0</td>\n",
       "    </tr>\n",
       "    <tr>\n",
       "      <th>7</th>\n",
       "      <td>118101</td>\n",
       "      <td>2022-01-03</td>\n",
       "      <td>Пласмент База</td>\n",
       "      <td>2211804214811</td>\n",
       "      <td>Амбарица (вакуум)</td>\n",
       "      <td>Сурово-сушени колбаси и деликатеси-&gt;Сурово-суш...</td>\n",
       "      <td>В брой</td>\n",
       "      <td>кг.</td>\n",
       "      <td>0.644</td>\n",
       "      <td>16.20</td>\n",
       "      <td>...</td>\n",
       "      <td>България</td>\n",
       "      <td>2016</td>\n",
       "      <td>44.114727</td>\n",
       "      <td>27.26719</td>\n",
       "      <td>10.12</td>\n",
       "      <td>False</td>\n",
       "      <td>2022</td>\n",
       "      <td>1</td>\n",
       "      <td>2022-01</td>\n",
       "      <td>0</td>\n",
       "    </tr>\n",
       "    <tr>\n",
       "      <th>8</th>\n",
       "      <td>118101</td>\n",
       "      <td>2022-01-03</td>\n",
       "      <td>Пласмент База</td>\n",
       "      <td>2211804214811</td>\n",
       "      <td>Кълцаница (вакуум)</td>\n",
       "      <td>Сурово-сушени колбаси и деликатеси-&gt;Сурово-суш...</td>\n",
       "      <td>В брой</td>\n",
       "      <td>кг.</td>\n",
       "      <td>0.890</td>\n",
       "      <td>23.60</td>\n",
       "      <td>...</td>\n",
       "      <td>България</td>\n",
       "      <td>2016</td>\n",
       "      <td>44.114727</td>\n",
       "      <td>27.26719</td>\n",
       "      <td>20.37</td>\n",
       "      <td>False</td>\n",
       "      <td>2022</td>\n",
       "      <td>1</td>\n",
       "      <td>2022-01</td>\n",
       "      <td>0</td>\n",
       "    </tr>\n",
       "    <tr>\n",
       "      <th>9</th>\n",
       "      <td>118101</td>\n",
       "      <td>2022-01-03</td>\n",
       "      <td>Пласмент База</td>\n",
       "      <td>2211804214811</td>\n",
       "      <td>Луканка \"Смядовска специална\" (вакуум)</td>\n",
       "      <td>Сурово-сушени колбаси и деликатеси-&gt;Сурово-суш...</td>\n",
       "      <td>В брой</td>\n",
       "      <td>кг.</td>\n",
       "      <td>1.060</td>\n",
       "      <td>15.70</td>\n",
       "      <td>...</td>\n",
       "      <td>България</td>\n",
       "      <td>2016</td>\n",
       "      <td>44.114727</td>\n",
       "      <td>27.26719</td>\n",
       "      <td>16.14</td>\n",
       "      <td>False</td>\n",
       "      <td>2022</td>\n",
       "      <td>1</td>\n",
       "      <td>2022-01</td>\n",
       "      <td>0</td>\n",
       "    </tr>\n",
       "    <tr>\n",
       "      <th>10</th>\n",
       "      <td>118101</td>\n",
       "      <td>2022-01-03</td>\n",
       "      <td>Пласмент База</td>\n",
       "      <td>2211804214811</td>\n",
       "      <td>Петрохан (вакуум)</td>\n",
       "      <td>Сурово-сушени колбаси и деликатеси-&gt;Сурово-суш...</td>\n",
       "      <td>В брой</td>\n",
       "      <td>кг.</td>\n",
       "      <td>0.840</td>\n",
       "      <td>16.20</td>\n",
       "      <td>...</td>\n",
       "      <td>България</td>\n",
       "      <td>2016</td>\n",
       "      <td>44.114727</td>\n",
       "      <td>27.26719</td>\n",
       "      <td>13.20</td>\n",
       "      <td>False</td>\n",
       "      <td>2022</td>\n",
       "      <td>1</td>\n",
       "      <td>2022-01</td>\n",
       "      <td>0</td>\n",
       "    </tr>\n",
       "    <tr>\n",
       "      <th>11</th>\n",
       "      <td>118101</td>\n",
       "      <td>2022-01-03</td>\n",
       "      <td>Пласмент База</td>\n",
       "      <td>2211804214811</td>\n",
       "      <td>Сурова наденица замразена</td>\n",
       "      <td>Млени меса и продукти от тях</td>\n",
       "      <td>В брой</td>\n",
       "      <td>кг.</td>\n",
       "      <td>0.600</td>\n",
       "      <td>6.20</td>\n",
       "      <td>...</td>\n",
       "      <td>България</td>\n",
       "      <td>2016</td>\n",
       "      <td>44.114727</td>\n",
       "      <td>27.26719</td>\n",
       "      <td>3.61</td>\n",
       "      <td>False</td>\n",
       "      <td>2022</td>\n",
       "      <td>1</td>\n",
       "      <td>2022-01</td>\n",
       "      <td>0</td>\n",
       "    </tr>\n",
       "    <tr>\n",
       "      <th>12</th>\n",
       "      <td>118102</td>\n",
       "      <td>2022-01-03</td>\n",
       "      <td>Пласмент База</td>\n",
       "      <td>2211855843711</td>\n",
       "      <td>Сушеница \"Добруджа\"</td>\n",
       "      <td>Сурово-сушени колбаси и деликатеси-&gt;Сурово-суш...</td>\n",
       "      <td>В брой</td>\n",
       "      <td>кг.</td>\n",
       "      <td>7.640</td>\n",
       "      <td>14.20</td>\n",
       "      <td>...</td>\n",
       "      <td>България</td>\n",
       "      <td>2018</td>\n",
       "      <td>44.114727</td>\n",
       "      <td>27.26719</td>\n",
       "      <td>105.23</td>\n",
       "      <td>False</td>\n",
       "      <td>2022</td>\n",
       "      <td>1</td>\n",
       "      <td>2022-01</td>\n",
       "      <td>0</td>\n",
       "    </tr>\n",
       "    <tr>\n",
       "      <th>13</th>\n",
       "      <td>118102</td>\n",
       "      <td>2022-01-03</td>\n",
       "      <td>Пласмент База</td>\n",
       "      <td>2211855843711</td>\n",
       "      <td>Бургас</td>\n",
       "      <td>Трайни и полутрайни варено-пушени салами</td>\n",
       "      <td>В брой</td>\n",
       "      <td>кг.</td>\n",
       "      <td>9.170</td>\n",
       "      <td>10.40</td>\n",
       "      <td>...</td>\n",
       "      <td>България</td>\n",
       "      <td>2018</td>\n",
       "      <td>44.114727</td>\n",
       "      <td>27.26719</td>\n",
       "      <td>92.51</td>\n",
       "      <td>False</td>\n",
       "      <td>2022</td>\n",
       "      <td>1</td>\n",
       "      <td>2022-01</td>\n",
       "      <td>0</td>\n",
       "    </tr>\n",
       "    <tr>\n",
       "      <th>14</th>\n",
       "      <td>118102</td>\n",
       "      <td>2022-01-03</td>\n",
       "      <td>Пласмент База</td>\n",
       "      <td>2211855843711</td>\n",
       "      <td>Кайма плик по 0.500кг. замразена</td>\n",
       "      <td>Млени меса и продукти от тях</td>\n",
       "      <td>В брой</td>\n",
       "      <td>бр/0.500кг</td>\n",
       "      <td>6.000</td>\n",
       "      <td>2.80</td>\n",
       "      <td>...</td>\n",
       "      <td>България</td>\n",
       "      <td>2018</td>\n",
       "      <td>44.114727</td>\n",
       "      <td>27.26719</td>\n",
       "      <td>16.30</td>\n",
       "      <td>False</td>\n",
       "      <td>2022</td>\n",
       "      <td>1</td>\n",
       "      <td>2022-01</td>\n",
       "      <td>0</td>\n",
       "    </tr>\n",
       "    <tr>\n",
       "      <th>15</th>\n",
       "      <td>118103</td>\n",
       "      <td>2022-01-03</td>\n",
       "      <td>Пласмент База</td>\n",
       "      <td>2211858215311</td>\n",
       "      <td>Бургас</td>\n",
       "      <td>Трайни и полутрайни варено-пушени салами</td>\n",
       "      <td>В брой</td>\n",
       "      <td>кг.</td>\n",
       "      <td>1.770</td>\n",
       "      <td>10.40</td>\n",
       "      <td>...</td>\n",
       "      <td>България</td>\n",
       "      <td>2016</td>\n",
       "      <td>44.114727</td>\n",
       "      <td>27.26719</td>\n",
       "      <td>16.94</td>\n",
       "      <td>False</td>\n",
       "      <td>2022</td>\n",
       "      <td>1</td>\n",
       "      <td>2022-01</td>\n",
       "      <td>0</td>\n",
       "    </tr>\n",
       "    <tr>\n",
       "      <th>16</th>\n",
       "      <td>118103</td>\n",
       "      <td>2022-01-03</td>\n",
       "      <td>Пласмент База</td>\n",
       "      <td>2211858215311</td>\n",
       "      <td>Домашна кайма охладена</td>\n",
       "      <td>Млени меса и продукти от тях</td>\n",
       "      <td>В брой</td>\n",
       "      <td>кг.</td>\n",
       "      <td>4.000</td>\n",
       "      <td>5.60</td>\n",
       "      <td>...</td>\n",
       "      <td>България</td>\n",
       "      <td>2016</td>\n",
       "      <td>44.114727</td>\n",
       "      <td>27.26719</td>\n",
       "      <td>20.61</td>\n",
       "      <td>False</td>\n",
       "      <td>2022</td>\n",
       "      <td>1</td>\n",
       "      <td>2022-01</td>\n",
       "      <td>0</td>\n",
       "    </tr>\n",
       "    <tr>\n",
       "      <th>17</th>\n",
       "      <td>118103</td>\n",
       "      <td>2022-01-03</td>\n",
       "      <td>Пласмент База</td>\n",
       "      <td>2211858215311</td>\n",
       "      <td>Кюфтета печени кг. вакуум</td>\n",
       "      <td>Полуфабрикати</td>\n",
       "      <td>В брой</td>\n",
       "      <td>кг.</td>\n",
       "      <td>1.206</td>\n",
       "      <td>8.30</td>\n",
       "      <td>...</td>\n",
       "      <td>България</td>\n",
       "      <td>2016</td>\n",
       "      <td>44.114727</td>\n",
       "      <td>27.26719</td>\n",
       "      <td>9.21</td>\n",
       "      <td>False</td>\n",
       "      <td>2022</td>\n",
       "      <td>1</td>\n",
       "      <td>2022-01</td>\n",
       "      <td>0</td>\n",
       "    </tr>\n",
       "    <tr>\n",
       "      <th>18</th>\n",
       "      <td>118103</td>\n",
       "      <td>2022-01-03</td>\n",
       "      <td>Пласмент База</td>\n",
       "      <td>2211858215311</td>\n",
       "      <td>Пилешко печено вакуум</td>\n",
       "      <td>Полуфабрикати</td>\n",
       "      <td>В брой</td>\n",
       "      <td>кг.</td>\n",
       "      <td>1.070</td>\n",
       "      <td>12.55</td>\n",
       "      <td>...</td>\n",
       "      <td>България</td>\n",
       "      <td>2016</td>\n",
       "      <td>44.114727</td>\n",
       "      <td>27.26719</td>\n",
       "      <td>12.35</td>\n",
       "      <td>False</td>\n",
       "      <td>2022</td>\n",
       "      <td>1</td>\n",
       "      <td>2022-01</td>\n",
       "      <td>0</td>\n",
       "    </tr>\n",
       "    <tr>\n",
       "      <th>19</th>\n",
       "      <td>118103</td>\n",
       "      <td>2022-01-03</td>\n",
       "      <td>Пласмент База</td>\n",
       "      <td>2211858215311</td>\n",
       "      <td>Деликатесен (вакуум)</td>\n",
       "      <td>Трайни и полутрайни варено-пушени салами</td>\n",
       "      <td>В брой</td>\n",
       "      <td>кг.</td>\n",
       "      <td>0.920</td>\n",
       "      <td>14.00</td>\n",
       "      <td>...</td>\n",
       "      <td>България</td>\n",
       "      <td>2016</td>\n",
       "      <td>44.114727</td>\n",
       "      <td>27.26719</td>\n",
       "      <td>11.85</td>\n",
       "      <td>False</td>\n",
       "      <td>2022</td>\n",
       "      <td>1</td>\n",
       "      <td>2022-01</td>\n",
       "      <td>0</td>\n",
       "    </tr>\n",
       "  </tbody>\n",
       "</table>\n",
       "<p>20 rows × 30 columns</p>\n",
       "</div>"
      ],
      "text/plain": [
       "    Document_number Order_date   Distribution_type   Partner_code  \\\n",
       "0            118099 2022-01-03  Експедиция - изход  2211000000011   \n",
       "1            118100 2022-01-03       Пласмент База  2282802584711   \n",
       "2            118101 2022-01-03       Пласмент База  2211804214811   \n",
       "3            118101 2022-01-03       Пласмент База  2211804214811   \n",
       "4            118101 2022-01-03       Пласмент База  2211804214811   \n",
       "5            118101 2022-01-03       Пласмент База  2211804214811   \n",
       "6            118101 2022-01-03       Пласмент База  2211804214811   \n",
       "7            118101 2022-01-03       Пласмент База  2211804214811   \n",
       "8            118101 2022-01-03       Пласмент База  2211804214811   \n",
       "9            118101 2022-01-03       Пласмент База  2211804214811   \n",
       "10           118101 2022-01-03       Пласмент База  2211804214811   \n",
       "11           118101 2022-01-03       Пласмент База  2211804214811   \n",
       "12           118102 2022-01-03       Пласмент База  2211855843711   \n",
       "13           118102 2022-01-03       Пласмент База  2211855843711   \n",
       "14           118102 2022-01-03       Пласмент База  2211855843711   \n",
       "15           118103 2022-01-03       Пласмент База  2211858215311   \n",
       "16           118103 2022-01-03       Пласмент База  2211858215311   \n",
       "17           118103 2022-01-03       Пласмент База  2211858215311   \n",
       "18           118103 2022-01-03       Пласмент База  2211858215311   \n",
       "19           118103 2022-01-03       Пласмент База  2211858215311   \n",
       "\n",
       "                                       Product  \\\n",
       "0                           Суджук за приятели   \n",
       "1                                   Хамбургски   \n",
       "2   Пастърма натурална - ХТСХ парчета (вакуум)   \n",
       "3                          Сланина ВП (вакуум)   \n",
       "4                        Пилешко печено вакуум   \n",
       "5                              Бургас (вакуум)   \n",
       "6                         Шунков шпек (вакуум)   \n",
       "7                            Амбарица (вакуум)   \n",
       "8                           Кълцаница (вакуум)   \n",
       "9       Луканка \"Смядовска специална\" (вакуум)   \n",
       "10                           Петрохан (вакуум)   \n",
       "11                   Сурова наденица замразена   \n",
       "12                         Сушеница \"Добруджа\"   \n",
       "13                                      Бургас   \n",
       "14            Кайма плик по 0.500кг. замразена   \n",
       "15                                      Бургас   \n",
       "16                      Домашна кайма охладена   \n",
       "17                   Кюфтета печени кг. вакуум   \n",
       "18                       Пилешко печено вакуум   \n",
       "19                        Деликатесен (вакуум)   \n",
       "\n",
       "                                         Product_type Payment_type  \\\n",
       "0   Сурово-сушени колбаси и деликатеси->Сурово-суш...       В брой   \n",
       "1                                  Малотрайни колбаси       В брой   \n",
       "2   Сурово-сушени колбаси и деликатеси->Сурово-суш...       В брой   \n",
       "3                            Варено-пушени деликатеси       В брой   \n",
       "4                                       Полуфабрикати       В брой   \n",
       "5            Трайни и полутрайни варено-пушени салами       В брой   \n",
       "6            Трайни и полутрайни варено-пушени салами       В брой   \n",
       "7   Сурово-сушени колбаси и деликатеси->Сурово-суш...       В брой   \n",
       "8   Сурово-сушени колбаси и деликатеси->Сурово-суш...       В брой   \n",
       "9   Сурово-сушени колбаси и деликатеси->Сурово-суш...       В брой   \n",
       "10  Сурово-сушени колбаси и деликатеси->Сурово-суш...       В брой   \n",
       "11                       Млени меса и продукти от тях       В брой   \n",
       "12  Сурово-сушени колбаси и деликатеси->Сурово-суш...       В брой   \n",
       "13           Трайни и полутрайни варено-пушени салами       В брой   \n",
       "14                       Млени меса и продукти от тях       В брой   \n",
       "15           Трайни и полутрайни варено-пушени салами       В брой   \n",
       "16                       Млени меса и продукти от тях       В брой   \n",
       "17                                      Полуфабрикати       В брой   \n",
       "18                                      Полуфабрикати       В брой   \n",
       "19           Трайни и полутрайни варено-пушени салами       В брой   \n",
       "\n",
       "   Quantity_measurement  Quantity  Unit_price  ...  Customer_country  \\\n",
       "0                   кг.    10.300       16.50  ...          България   \n",
       "1                   кг.    21.070        4.20  ...          България   \n",
       "2                   кг.     0.320       41.40  ...          България   \n",
       "3                   кг.     1.380        6.70  ...          България   \n",
       "4                   кг.     0.470       12.55  ...          България   \n",
       "5                   кг.     1.746       10.60  ...          България   \n",
       "6                   кг.     0.600       12.10  ...          България   \n",
       "7                   кг.     0.644       16.20  ...          България   \n",
       "8                   кг.     0.890       23.60  ...          България   \n",
       "9                   кг.     1.060       15.70  ...          България   \n",
       "10                  кг.     0.840       16.20  ...          България   \n",
       "11                  кг.     0.600        6.20  ...          България   \n",
       "12                  кг.     7.640       14.20  ...          България   \n",
       "13                  кг.     9.170       10.40  ...          България   \n",
       "14           бр/0.500кг     6.000        2.80  ...          България   \n",
       "15                  кг.     1.770       10.40  ...          България   \n",
       "16                  кг.     4.000        5.60  ...          България   \n",
       "17                  кг.     1.206        8.30  ...          България   \n",
       "18                  кг.     1.070       12.55  ...          България   \n",
       "19                  кг.     0.920       14.00  ...          България   \n",
       "\n",
       "    Address_updated   Latitude  Longitude Adjusted_Sales  Is_weekend  Year  \\\n",
       "0              2016  44.114727   27.26719         169.95       False  2022   \n",
       "1              2016  44.114727   27.26719          88.49       False  2022   \n",
       "2              2016  44.114727   27.26719          12.85       False  2022   \n",
       "3              2016  44.114727   27.26719           8.97       False  2022   \n",
       "4              2016  44.114727   27.26719           5.72       False  2022   \n",
       "5              2016  44.114727   27.26719          17.95       False  2022   \n",
       "6              2016  44.114727   27.26719           7.04       False  2022   \n",
       "7              2016  44.114727   27.26719          10.12       False  2022   \n",
       "8              2016  44.114727   27.26719          20.37       False  2022   \n",
       "9              2016  44.114727   27.26719          16.14       False  2022   \n",
       "10             2016  44.114727   27.26719          13.20       False  2022   \n",
       "11             2016  44.114727   27.26719           3.61       False  2022   \n",
       "12             2018  44.114727   27.26719         105.23       False  2022   \n",
       "13             2018  44.114727   27.26719          92.51       False  2022   \n",
       "14             2018  44.114727   27.26719          16.30       False  2022   \n",
       "15             2016  44.114727   27.26719          16.94       False  2022   \n",
       "16             2016  44.114727   27.26719          20.61       False  2022   \n",
       "17             2016  44.114727   27.26719           9.21       False  2022   \n",
       "18             2016  44.114727   27.26719          12.35       False  2022   \n",
       "19             2016  44.114727   27.26719          11.85       False  2022   \n",
       "\n",
       "   Month CohortMonth CohortIndex  \n",
       "0      1     2022-01           0  \n",
       "1      1     2022-01           0  \n",
       "2      1     2022-01           0  \n",
       "3      1     2022-01           0  \n",
       "4      1     2022-01           0  \n",
       "5      1     2022-01           0  \n",
       "6      1     2022-01           0  \n",
       "7      1     2022-01           0  \n",
       "8      1     2022-01           0  \n",
       "9      1     2022-01           0  \n",
       "10     1     2022-01           0  \n",
       "11     1     2022-01           0  \n",
       "12     1     2022-01           0  \n",
       "13     1     2022-01           0  \n",
       "14     1     2022-01           0  \n",
       "15     1     2022-01           0  \n",
       "16     1     2022-01           0  \n",
       "17     1     2022-01           0  \n",
       "18     1     2022-01           0  \n",
       "19     1     2022-01           0  \n",
       "\n",
       "[20 rows x 30 columns]"
      ]
     },
     "execution_count": 116,
     "metadata": {},
     "output_type": "execute_result"
    }
   ],
   "source": [
    "data.head(20)"
   ]
  },
  {
   "cell_type": "code",
   "execution_count": 83,
   "metadata": {},
   "outputs": [
    {
     "name": "stdout",
     "output_type": "stream",
     "text": [
      "   Document_number Order_date   Distribution_type   Partner_code  \\\n",
      "0           118099 2022-01-03  Експедиция - изход  2211000000011   \n",
      "1           118100 2022-01-03       Пласмент База  2282802584711   \n",
      "2           118101 2022-01-03       Пласмент База  2211804214811   \n",
      "3           118101 2022-01-03       Пласмент База  2211804214811   \n",
      "4           118101 2022-01-03       Пласмент База  2211804214811   \n",
      "\n",
      "                                      Product  \\\n",
      "0                          Суджук за приятели   \n",
      "1                                  Хамбургски   \n",
      "2  Пастърма натурална - ХТСХ парчета (вакуум)   \n",
      "3                         Сланина ВП (вакуум)   \n",
      "4                       Пилешко печено вакуум   \n",
      "\n",
      "                                        Product_type Payment_type  \\\n",
      "0  Сурово-сушени колбаси и деликатеси->Сурово-суш...       В брой   \n",
      "1                                 Малотрайни колбаси       В брой   \n",
      "2  Сурово-сушени колбаси и деликатеси->Сурово-суш...       В брой   \n",
      "3                           Варено-пушени деликатеси       В брой   \n",
      "4                                      Полуфабрикати       В брой   \n",
      "\n",
      "  Quantity_measurement  Quantity  Unit_price  ...  Customer_country  \\\n",
      "0                  кг.     10.30       16.50  ...          България   \n",
      "1                  кг.     21.07        4.20  ...          България   \n",
      "2                  кг.      0.32       41.40  ...          България   \n",
      "3                  кг.      1.38        6.70  ...          България   \n",
      "4                  кг.      0.47       12.55  ...          България   \n",
      "\n",
      "   Address_updated   Latitude  Longitude Adjusted_Sales  Is_weekend  Year  \\\n",
      "0             2016  44.114727   27.26719         169.95       False  2022   \n",
      "1             2016  44.114727   27.26719          88.49       False  2022   \n",
      "2             2016  44.114727   27.26719          12.85       False  2022   \n",
      "3             2016  44.114727   27.26719           8.97       False  2022   \n",
      "4             2016  44.114727   27.26719           5.72       False  2022   \n",
      "\n",
      "  Month CohortMonth CohortIndex  \n",
      "0     1     2022-01           0  \n",
      "1     1     2022-01           0  \n",
      "2     1     2022-01           0  \n",
      "3     1     2022-01           0  \n",
      "4     1     2022-01           0  \n",
      "\n",
      "[5 rows x 30 columns]\n",
      "<class 'pandas.core.frame.DataFrame'>\n",
      "RangeIndex: 342298 entries, 0 to 342297\n",
      "Data columns (total 30 columns):\n",
      " #   Column                 Non-Null Count   Dtype         \n",
      "---  ------                 --------------   -----         \n",
      " 0   Document_number        342298 non-null  int64         \n",
      " 1   Order_date             342298 non-null  datetime64[ns]\n",
      " 2   Distribution_type      342298 non-null  object        \n",
      " 3   Partner_code           342298 non-null  object        \n",
      " 4   Product                342298 non-null  object        \n",
      " 5   Product_type           342298 non-null  object        \n",
      " 6   Payment_type           342298 non-null  object        \n",
      " 7   Quantity_measurement   342298 non-null  object        \n",
      " 8   Quantity               342298 non-null  float64       \n",
      " 9   Unit_price             342294 non-null  float64       \n",
      " 10  Discounted_unit_price  342294 non-null  float64       \n",
      " 11  Sales                  342298 non-null  float64       \n",
      " 12  Discount_%             342270 non-null  float64       \n",
      " 13  Discount_lv            342298 non-null  float64       \n",
      " 14  Returned_Ordered       342298 non-null  object        \n",
      " 15  unique_code            342298 non-null  int64         \n",
      " 16  City                   342298 non-null  object        \n",
      " 17  Geo                    342298 non-null  object        \n",
      " 18  Customer_type          342298 non-null  object        \n",
      " 19  Customer_location      342298 non-null  object        \n",
      " 20  Customer_country       342298 non-null  object        \n",
      " 21  Address_updated        342298 non-null  int64         \n",
      " 22  Latitude               342298 non-null  float64       \n",
      " 23  Longitude              342298 non-null  float64       \n",
      " 24  Adjusted_Sales         342298 non-null  float64       \n",
      " 25  Is_weekend             342298 non-null  bool          \n",
      " 26  Year                   342298 non-null  int64         \n",
      " 27  Month                  342298 non-null  int64         \n",
      " 28  CohortMonth            342298 non-null  object        \n",
      " 29  CohortIndex            342298 non-null  int64         \n",
      "dtypes: bool(1), datetime64[ns](1), float64(9), int64(6), object(13)\n",
      "memory usage: 76.1+ MB\n",
      "None\n"
     ]
    }
   ],
   "source": [
    "# Inspect the dataset\n",
    "print(data.head())\n",
    "print(data.info())"
   ]
  },
  {
   "cell_type": "code",
   "execution_count": 84,
   "metadata": {},
   "outputs": [
    {
     "name": "stdout",
     "output_type": "stream",
     "text": [
      "Number of duplicate rows: 0\n"
     ]
    }
   ],
   "source": [
    "# Check for duplicate rows\n",
    "duplicate_rows = data.duplicated()\n",
    "print(f\"Number of duplicate rows: {duplicate_rows.sum()}\")\n",
    "\n",
    "# Optionally, display the duplicate rows\n",
    "if duplicate_rows.sum() > 0:\n",
    "    print(data[duplicate_rows])"
   ]
  },
  {
   "cell_type": "markdown",
   "metadata": {},
   "source": [
    "# Calculate Frequency, Monetary and Discount columns"
   ]
  },
  {
   "cell_type": "code",
   "execution_count": 85,
   "metadata": {},
   "outputs": [],
   "source": [
    "# Convert Order Date to datetime\n",
    "data['Order_date'] = pd.to_datetime(data['Order_date'])"
   ]
  },
  {
   "cell_type": "code",
   "execution_count": 86,
   "metadata": {},
   "outputs": [],
   "source": [
    "# Define the reference date as the day after the last order date\n",
    "#reference_date = data['Order_date'].max() + dt.timedelta(days=1)"
   ]
  },
  {
   "cell_type": "code",
   "execution_count": 87,
   "metadata": {},
   "outputs": [
    {
     "name": "stdout",
     "output_type": "stream",
     "text": [
      "\n",
      "Number of null or NaN values in 'Sales': 0\n",
      "Number of null or NaN values in 'Discount_lv': 0\n",
      "\n",
      "Number of negative values in 'Sales': 9437\n",
      "Number of negative values in 'Discount_lv': 204522\n"
     ]
    }
   ],
   "source": [
    "# Check for null or NaN values\n",
    "null_sales = data['Sales'].isnull().sum()\n",
    "null_discount = data['Discount_lv'].isnull().sum()\n",
    "\n",
    "print(f\"\\nNumber of null or NaN values in 'Sales': {null_sales}\")\n",
    "print(f\"Number of null or NaN values in 'Discount_lv': {null_discount}\")\n",
    "\n",
    "# Check for negative values in 'Sales' and 'Discount_lv'\n",
    "negative_sales = (data['Sales'] < 0).sum()\n",
    "negative_discount = (data['Discount_lv'] < 0).sum()\n",
    "\n",
    "print(f\"\\nNumber of negative values in 'Sales': {negative_sales}\")\n",
    "print(f\"Number of negative values in 'Discount_lv': {negative_discount}\")\n",
    "\n",
    "\n",
    "# Handling negative values in 'Discount_lv'\n",
    "# Assuming negative values in 'Discount_lv' represent discounts correctly\n",
    "# No transformation is necessary unless your business logic dictates otherwise\n"
   ]
  },
  {
   "cell_type": "code",
   "execution_count": 88,
   "metadata": {},
   "outputs": [],
   "source": [
    "# I would like to crate the model only for the Bulgarian customers"
   ]
  },
  {
   "cell_type": "code",
   "execution_count": 89,
   "metadata": {},
   "outputs": [],
   "source": [
    "data = data[data['Customer_country'] == 'България']"
   ]
  },
  {
   "cell_type": "code",
   "execution_count": 90,
   "metadata": {},
   "outputs": [],
   "source": [
    "# Create RFM table\n",
    "fmd_table = data.groupby('Partner_code').agg({\n",
    "    #'Order_date': lambda x: (reference_date - x.max()).days,\n",
    "    'Document_number': 'count',\n",
    "    'Sales': 'sum',\n",
    "    'Discount_lv': 'sum'\n",
    "}).reset_index()"
   ]
  },
  {
   "cell_type": "code",
   "execution_count": 91,
   "metadata": {},
   "outputs": [],
   "source": [
    "# Rename columns\n",
    "fmd_table.columns = ['Customer ID', 'Frequency', 'Monetary', 'Total Discount']"
   ]
  },
  {
   "cell_type": "code",
   "execution_count": 92,
   "metadata": {},
   "outputs": [
    {
     "name": "stdout",
     "output_type": "stream",
     "text": [
      "      Customer ID  Frequency    Monetary  Total Discount\n",
      "0   2210000000011      10629  3240270.88            0.00\n",
      "1   2210327922511        590    42527.11            0.00\n",
      "2   2210450725811          1       80.18            0.00\n",
      "3   2211000000011      12392   318859.15         -333.53\n",
      "4  22112211221111          7       61.35            0.00\n"
     ]
    }
   ],
   "source": [
    "\n",
    "# Inspect RFM table\n",
    "print(fmd_table.head())"
   ]
  },
  {
   "cell_type": "markdown",
   "metadata": {},
   "source": [
    "## Scaling"
   ]
  },
  {
   "cell_type": "code",
   "execution_count": null,
   "metadata": {},
   "outputs": [],
   "source": [
    "# Normalize RFM values\n",
    "scaler = StandardScaler()\n",
    "fmd_table = scaler.fit_transform(fmd_table[['Frequency', 'Monetary', 'Total Discount']])\n"
   ]
  },
  {
   "cell_type": "code",
   "execution_count": null,
   "metadata": {},
   "outputs": [],
   "source": [
    "fm_table.head(3)"
   ]
  },
  {
   "cell_type": "markdown",
   "metadata": {},
   "source": [
    "## Checking for Outliers"
   ]
  },
  {
   "cell_type": "code",
   "execution_count": 93,
   "metadata": {},
   "outputs": [],
   "source": [
    "# Function to detect outliers using IQR\n",
    "def detect_outliers(df, column):\n",
    "    Q1 = df[column].quantile(0.25)\n",
    "    Q3 = df[column].quantile(0.75)\n",
    "    IQR = Q3 - Q1\n",
    "    lower_bound = Q1 - 1.5 * IQR\n",
    "    upper_bound = Q3 + 1.5 * IQR\n",
    "    outliers = df[(df[column] < lower_bound) | (df[column] > upper_bound)]\n",
    "    return outliers"
   ]
  },
  {
   "cell_type": "code",
   "execution_count": 94,
   "metadata": {},
   "outputs": [],
   "source": [
    "# Detect outliers in each RFM metric\n",
    "frequency_outliers = detect_outliers(fmd_table, 'Frequency')\n",
    "monetary_outliers = detect_outliers(fmd_table, 'Monetary')\n",
    "discount_outliers = detect_outliers(fmd_table, 'Total Discount')"
   ]
  },
  {
   "cell_type": "code",
   "execution_count": 95,
   "metadata": {},
   "outputs": [
    {
     "name": "stdout",
     "output_type": "stream",
     "text": [
      "Recency Outliers:\n",
      "       Customer ID  Frequency   Monetary  Total Discount\n",
      "3    2211000000011      12392  318859.15         -333.53\n",
      "9    2211760501911       1188   97061.16        -8440.21\n",
      "10   2211800020811       1433   28815.62        -1080.65\n",
      "13   2211800696911       1433   22682.61         -463.36\n",
      "21   2211801493011       3863   61768.70        -2496.58\n",
      "..             ...        ...        ...             ...\n",
      "342  2220744454711        363    9551.23         -166.31\n",
      "358  2282800153211       1952   85294.93        -2997.83\n",
      "363  2282801466111       1454  303739.78       -30534.24\n",
      "364  2282801624211       2643   40632.53        -1251.02\n",
      "379  2282806745011       1193  229122.41       -20413.03\n",
      "\n",
      "[90 rows x 4 columns]\n",
      "Frequency Outliers:\n",
      "       Customer ID  Frequency    Monetary  Total Discount\n",
      "0    2210000000011      10629  3240270.88            0.00\n",
      "3    2211000000011      12392   318859.15         -333.53\n",
      "21   2211801493011       3863    61768.70        -2496.58\n",
      "29   2211802993211       2232    36881.40            0.00\n",
      "42   2211850048711       2731   136736.28        -5526.99\n",
      "50   2211852142811       3512   137463.27        -9274.98\n",
      "68   2211855403911      58250  1333143.67      -120914.67\n",
      "86   2211858160311       6253   600671.61       -60008.73\n",
      "89   2211858215311      18127   262135.13       -22825.20\n",
      "108  2212463264011       7828   137709.18        -5283.56\n",
      "109  2212463435911       4505   215087.56       -18322.50\n",
      "129  2220002002611       6728   134087.54        -4136.70\n",
      "130  2220002295611       2174   171458.94         -980.08\n",
      "133  2220007837811       8597   138708.45       -10317.95\n",
      "140  2220043669711       2424    55426.50        -4375.41\n",
      "143  2220050316711       4421   709030.53       -96685.04\n",
      "150  2220057509511       2991    49445.43        -1794.64\n",
      "174  2220147464011       6897   243346.81       -17776.76\n",
      "186  2220198147611       2893    78129.90        -3156.23\n",
      "195  2220221786211       4530    70391.67        -4021.69\n",
      "206  2220274126311       3583    50709.11        -2856.79\n",
      "232  2220383765611       5819   141822.45        -7390.65\n",
      "269  2220538135411       5422   171772.63        -8939.80\n",
      "330  2220692180711       3066    44979.12            0.00\n",
      "345     2255237211       2974    55539.33            0.00\n",
      "361  2282800516011       2197    32711.93            0.00\n",
      "364  2282801624211       2643    40632.53        -1251.02\n",
      "Monetary Outliers:\n",
      "       Customer ID  Frequency    Monetary  Total Discount\n",
      "0    2210000000011      10629  3240270.88            0.00\n",
      "3    2211000000011      12392   318859.15         -333.53\n",
      "9    2211760501911       1188    97061.16        -8440.21\n",
      "21   2211801493011       3863    61768.70        -2496.58\n",
      "42   2211850048711       2731   136736.28        -5526.99\n",
      "50   2211852142811       3512   137463.27        -9274.98\n",
      "68   2211855403911      58250  1333143.67      -120914.67\n",
      "86   2211858160311       6253   600671.61       -60008.73\n",
      "87   2211858189111       1447   157957.77       -11405.48\n",
      "89   2211858215311      18127   262135.13       -22825.20\n",
      "92   2211858342611       1279   116905.22        -3600.06\n",
      "101  2212405224111        638   129232.97       -15986.50\n",
      "108  2212463264011       7828   137709.18        -5283.56\n",
      "109  2212463435911       4505   215087.56       -18322.50\n",
      "112  2212470896611       1647    66904.12        -5887.78\n",
      "115  2212705249911        551   128327.73        -9802.90\n",
      "116  2212757359811       1562   264449.16       -22992.28\n",
      "117  2212758583911        971   173998.53       -17910.03\n",
      "126  2217507218511        535   205462.23            0.00\n",
      "129  2220002002611       6728   134087.54        -4136.70\n",
      "130  2220002295611       2174   171458.94         -980.08\n",
      "133  2220007837811       8597   138708.45       -10317.95\n",
      "140  2220043669711       2424    55426.50        -4375.41\n",
      "143  2220050316711       4421   709030.53       -96685.04\n",
      "169  2220133804211        862    83033.16          -16.86\n",
      "174  2220147464011       6897   243346.81       -17776.76\n",
      "186  2220198147611       2893    78129.90        -3156.23\n",
      "191  2220212489911       1602   109534.75            0.00\n",
      "193  2220213681611        925    96917.25        -2997.22\n",
      "195  2220221786211       4530    70391.67        -4021.69\n",
      "206  2220274126311       3583    50709.11        -2856.79\n",
      "207  2220278002411        564    84305.98          -17.50\n",
      "225  2220364073711         22   213995.12            0.00\n",
      "226  2220368391811       2024   229173.47       -19922.72\n",
      "232  2220383765611       5819   141822.45        -7390.65\n",
      "252  2220470792911        239    61251.02          -25.00\n",
      "256  2220480308711       1210    66279.79        -4139.20\n",
      "259  2220492247211        592   127645.34       -11060.98\n",
      "269  2220538135411       5422   171772.63        -8939.80\n",
      "327  2220689817411        953    79677.70        -7432.43\n",
      "336  2220720180511       1472   338832.77       -33631.11\n",
      "345     2255237211       2974    55539.33            0.00\n",
      "358  2282800153211       1952    85294.93        -2997.83\n",
      "363  2282801466111       1454   303739.78       -30534.24\n",
      "379  2282806745011       1193   229122.41       -20413.03\n"
     ]
    }
   ],
   "source": [
    "# Print outliers\n",
    "print(f\"Recency Outliers:\\n{discount_outliers}\")\n",
    "print(f\"Frequency Outliers:\\n{frequency_outliers}\")\n",
    "print(f\"Monetary Outliers:\\n{monetary_outliers}\")"
   ]
  },
  {
   "cell_type": "code",
   "execution_count": 96,
   "metadata": {},
   "outputs": [],
   "source": [
    "# Remove outliers\n",
    "fmd_table_no_outliers = fmd_table[~fmd_table['Customer ID'].isin(discount_outliers['Customer ID'])]\n",
    "fmd_table_no_outliers = fmd_table_no_outliers[~fmd_table_no_outliers['Customer ID'].isin(frequency_outliers['Customer ID'])]\n",
    "fmd_table_no_outliers = fmd_table_no_outliers[~fmd_table_no_outliers['Customer ID'].isin(monetary_outliers['Customer ID'])]\n"
   ]
  },
  {
   "cell_type": "code",
   "execution_count": 97,
   "metadata": {},
   "outputs": [
    {
     "data": {
      "text/html": [
       "<div>\n",
       "<style scoped>\n",
       "    .dataframe tbody tr th:only-of-type {\n",
       "        vertical-align: middle;\n",
       "    }\n",
       "\n",
       "    .dataframe tbody tr th {\n",
       "        vertical-align: top;\n",
       "    }\n",
       "\n",
       "    .dataframe thead th {\n",
       "        text-align: right;\n",
       "    }\n",
       "</style>\n",
       "<table border=\"1\" class=\"dataframe\">\n",
       "  <thead>\n",
       "    <tr style=\"text-align: right;\">\n",
       "      <th></th>\n",
       "      <th>Customer ID</th>\n",
       "      <th>Frequency</th>\n",
       "      <th>Monetary</th>\n",
       "      <th>Total Discount</th>\n",
       "    </tr>\n",
       "  </thead>\n",
       "  <tbody>\n",
       "    <tr>\n",
       "      <th>1</th>\n",
       "      <td>2210327922511</td>\n",
       "      <td>590</td>\n",
       "      <td>42527.11</td>\n",
       "      <td>0.0</td>\n",
       "    </tr>\n",
       "    <tr>\n",
       "      <th>2</th>\n",
       "      <td>2210450725811</td>\n",
       "      <td>1</td>\n",
       "      <td>80.18</td>\n",
       "      <td>0.0</td>\n",
       "    </tr>\n",
       "    <tr>\n",
       "      <th>4</th>\n",
       "      <td>22112211221111</td>\n",
       "      <td>7</td>\n",
       "      <td>61.35</td>\n",
       "      <td>0.0</td>\n",
       "    </tr>\n",
       "  </tbody>\n",
       "</table>\n",
       "</div>"
      ],
      "text/plain": [
       "      Customer ID  Frequency  Monetary  Total Discount\n",
       "1   2210327922511        590  42527.11             0.0\n",
       "2   2210450725811          1     80.18             0.0\n",
       "4  22112211221111          7     61.35             0.0"
      ]
     },
     "execution_count": 97,
     "metadata": {},
     "output_type": "execute_result"
    }
   ],
   "source": [
    "fmd_table_no_outliers.head(3)"
   ]
  },
  {
   "cell_type": "code",
   "execution_count": 98,
   "metadata": {},
   "outputs": [
    {
     "data": {
      "text/plain": [
       "(280, 4)"
      ]
     },
     "execution_count": 98,
     "metadata": {},
     "output_type": "execute_result"
    }
   ],
   "source": [
    "fmd_table_no_outliers.shape"
   ]
  },
  {
   "cell_type": "markdown",
   "metadata": {},
   "source": [
    "# The Model"
   ]
  },
  {
   "cell_type": "code",
   "execution_count": 101,
   "metadata": {},
   "outputs": [],
   "source": [
    "## Determin the optimal number of clusters using the elbow method"
   ]
  },
  {
   "cell_type": "code",
   "execution_count": 102,
   "metadata": {},
   "outputs": [],
   "source": [
    "from sklearn.metrics import silhouette_score"
   ]
  },
  {
   "cell_type": "code",
   "execution_count": 103,
   "metadata": {},
   "outputs": [
    {
     "name": "stderr",
     "output_type": "stream",
     "text": [
      "c:\\Users\\gabb_\\anaconda3\\Lib\\site-packages\\sklearn\\cluster\\_kmeans.py:1412: FutureWarning:\n",
      "\n",
      "The default value of `n_init` will change from 10 to 'auto' in 1.4. Set the value of `n_init` explicitly to suppress the warning\n",
      "\n",
      "c:\\Users\\gabb_\\anaconda3\\Lib\\site-packages\\sklearn\\cluster\\_kmeans.py:1436: UserWarning:\n",
      "\n",
      "KMeans is known to have a memory leak on Windows with MKL, when there are less chunks than available threads. You can avoid it by setting the environment variable OMP_NUM_THREADS=2.\n",
      "\n"
     ]
    },
    {
     "name": "stdout",
     "output_type": "stream",
     "text": [
      "For n_clusters = 2, the average silhouette_score is : 0.6891961051802947\n"
     ]
    },
    {
     "name": "stderr",
     "output_type": "stream",
     "text": [
      "c:\\Users\\gabb_\\anaconda3\\Lib\\site-packages\\sklearn\\cluster\\_kmeans.py:1412: FutureWarning:\n",
      "\n",
      "The default value of `n_init` will change from 10 to 'auto' in 1.4. Set the value of `n_init` explicitly to suppress the warning\n",
      "\n",
      "c:\\Users\\gabb_\\anaconda3\\Lib\\site-packages\\sklearn\\cluster\\_kmeans.py:1436: UserWarning:\n",
      "\n",
      "KMeans is known to have a memory leak on Windows with MKL, when there are less chunks than available threads. You can avoid it by setting the environment variable OMP_NUM_THREADS=2.\n",
      "\n"
     ]
    },
    {
     "name": "stdout",
     "output_type": "stream",
     "text": [
      "For n_clusters = 3, the average silhouette_score is : 0.6938563436391567\n"
     ]
    },
    {
     "name": "stderr",
     "output_type": "stream",
     "text": [
      "c:\\Users\\gabb_\\anaconda3\\Lib\\site-packages\\sklearn\\cluster\\_kmeans.py:1412: FutureWarning:\n",
      "\n",
      "The default value of `n_init` will change from 10 to 'auto' in 1.4. Set the value of `n_init` explicitly to suppress the warning\n",
      "\n",
      "c:\\Users\\gabb_\\anaconda3\\Lib\\site-packages\\sklearn\\cluster\\_kmeans.py:1436: UserWarning:\n",
      "\n",
      "KMeans is known to have a memory leak on Windows with MKL, when there are less chunks than available threads. You can avoid it by setting the environment variable OMP_NUM_THREADS=2.\n",
      "\n"
     ]
    },
    {
     "name": "stdout",
     "output_type": "stream",
     "text": [
      "For n_clusters = 4, the average silhouette_score is : 0.6258348241978243\n"
     ]
    },
    {
     "name": "stderr",
     "output_type": "stream",
     "text": [
      "c:\\Users\\gabb_\\anaconda3\\Lib\\site-packages\\sklearn\\cluster\\_kmeans.py:1412: FutureWarning:\n",
      "\n",
      "The default value of `n_init` will change from 10 to 'auto' in 1.4. Set the value of `n_init` explicitly to suppress the warning\n",
      "\n",
      "c:\\Users\\gabb_\\anaconda3\\Lib\\site-packages\\sklearn\\cluster\\_kmeans.py:1436: UserWarning:\n",
      "\n",
      "KMeans is known to have a memory leak on Windows with MKL, when there are less chunks than available threads. You can avoid it by setting the environment variable OMP_NUM_THREADS=2.\n",
      "\n"
     ]
    },
    {
     "name": "stdout",
     "output_type": "stream",
     "text": [
      "For n_clusters = 5, the average silhouette_score is : 0.6261022047701376\n"
     ]
    },
    {
     "name": "stderr",
     "output_type": "stream",
     "text": [
      "c:\\Users\\gabb_\\anaconda3\\Lib\\site-packages\\sklearn\\cluster\\_kmeans.py:1412: FutureWarning:\n",
      "\n",
      "The default value of `n_init` will change from 10 to 'auto' in 1.4. Set the value of `n_init` explicitly to suppress the warning\n",
      "\n",
      "c:\\Users\\gabb_\\anaconda3\\Lib\\site-packages\\sklearn\\cluster\\_kmeans.py:1436: UserWarning:\n",
      "\n",
      "KMeans is known to have a memory leak on Windows with MKL, when there are less chunks than available threads. You can avoid it by setting the environment variable OMP_NUM_THREADS=2.\n",
      "\n"
     ]
    },
    {
     "name": "stdout",
     "output_type": "stream",
     "text": [
      "For n_clusters = 6, the average silhouette_score is : 0.6367488832095627\n"
     ]
    },
    {
     "name": "stderr",
     "output_type": "stream",
     "text": [
      "c:\\Users\\gabb_\\anaconda3\\Lib\\site-packages\\sklearn\\cluster\\_kmeans.py:1412: FutureWarning:\n",
      "\n",
      "The default value of `n_init` will change from 10 to 'auto' in 1.4. Set the value of `n_init` explicitly to suppress the warning\n",
      "\n",
      "c:\\Users\\gabb_\\anaconda3\\Lib\\site-packages\\sklearn\\cluster\\_kmeans.py:1436: UserWarning:\n",
      "\n",
      "KMeans is known to have a memory leak on Windows with MKL, when there are less chunks than available threads. You can avoid it by setting the environment variable OMP_NUM_THREADS=2.\n",
      "\n"
     ]
    },
    {
     "name": "stdout",
     "output_type": "stream",
     "text": [
      "For n_clusters = 7, the average silhouette_score is : 0.6442727729611905\n"
     ]
    },
    {
     "name": "stderr",
     "output_type": "stream",
     "text": [
      "c:\\Users\\gabb_\\anaconda3\\Lib\\site-packages\\sklearn\\cluster\\_kmeans.py:1412: FutureWarning:\n",
      "\n",
      "The default value of `n_init` will change from 10 to 'auto' in 1.4. Set the value of `n_init` explicitly to suppress the warning\n",
      "\n",
      "c:\\Users\\gabb_\\anaconda3\\Lib\\site-packages\\sklearn\\cluster\\_kmeans.py:1436: UserWarning:\n",
      "\n",
      "KMeans is known to have a memory leak on Windows with MKL, when there are less chunks than available threads. You can avoid it by setting the environment variable OMP_NUM_THREADS=2.\n",
      "\n"
     ]
    },
    {
     "name": "stdout",
     "output_type": "stream",
     "text": [
      "For n_clusters = 8, the average silhouette_score is : 0.6106218731793186\n"
     ]
    },
    {
     "name": "stderr",
     "output_type": "stream",
     "text": [
      "c:\\Users\\gabb_\\anaconda3\\Lib\\site-packages\\sklearn\\cluster\\_kmeans.py:1412: FutureWarning:\n",
      "\n",
      "The default value of `n_init` will change from 10 to 'auto' in 1.4. Set the value of `n_init` explicitly to suppress the warning\n",
      "\n",
      "c:\\Users\\gabb_\\anaconda3\\Lib\\site-packages\\sklearn\\cluster\\_kmeans.py:1436: UserWarning:\n",
      "\n",
      "KMeans is known to have a memory leak on Windows with MKL, when there are less chunks than available threads. You can avoid it by setting the environment variable OMP_NUM_THREADS=2.\n",
      "\n"
     ]
    },
    {
     "name": "stdout",
     "output_type": "stream",
     "text": [
      "For n_clusters = 9, the average silhouette_score is : 0.5185448657595684\n"
     ]
    },
    {
     "name": "stderr",
     "output_type": "stream",
     "text": [
      "c:\\Users\\gabb_\\anaconda3\\Lib\\site-packages\\sklearn\\cluster\\_kmeans.py:1412: FutureWarning:\n",
      "\n",
      "The default value of `n_init` will change from 10 to 'auto' in 1.4. Set the value of `n_init` explicitly to suppress the warning\n",
      "\n",
      "c:\\Users\\gabb_\\anaconda3\\Lib\\site-packages\\sklearn\\cluster\\_kmeans.py:1436: UserWarning:\n",
      "\n",
      "KMeans is known to have a memory leak on Windows with MKL, when there are less chunks than available threads. You can avoid it by setting the environment variable OMP_NUM_THREADS=2.\n",
      "\n"
     ]
    },
    {
     "name": "stdout",
     "output_type": "stream",
     "text": [
      "For n_clusters = 10, the average silhouette_score is : 0.5327193321817683\n"
     ]
    },
    {
     "data": {
      "image/png": "[encoded data removed]",
      "text/plain": [
       "<Figure size 1500x600 with 2 Axes>"
      ]
     },
     "metadata": {},
     "output_type": "display_data"
    }
   ],
   "source": [
    "# Determine the optimal number of clusters using the elbow method and silhouette score\n",
    "sse = {}\n",
    "silhouette_scores = []\n",
    "range_n_clusters = list(range(2, 11))\n",
    "\n",
    "for k in range_n_clusters:\n",
    "    kmeans = KMeans(n_clusters=k, random_state=42)\n",
    "    kmeans.fit(fmd_table_no_outliers)\n",
    "    sse[k] = kmeans.inertia_\n",
    "    silhouette_avg = silhouette_score(fmd_table_no_outliers, kmeans.labels_)\n",
    "    silhouette_scores.append(silhouette_avg)\n",
    "    print(f\"For n_clusters = {k}, the average silhouette_score is : {silhouette_avg}\")\n",
    "\n",
    "# Plot the elbow curve and silhouette scores\n",
    "fig, (ax1, ax2) = plt.subplots(1, 2, figsize=(15, 6))\n",
    "\n",
    "# Elbow Method\n",
    "ax1.plot(list(sse.keys()), list(sse.values()), 'bo-')\n",
    "ax1.set_xlabel('Number of Clusters')\n",
    "ax1.set_ylabel('Sum of Squared Errors (SSE)')\n",
    "ax1.set_title('Elbow Method For Optimal Number of Clusters')\n",
    "\n",
    "# Silhouette Scores\n",
    "ax2.plot(range_n_clusters, silhouette_scores, 'bo-')\n",
    "ax2.set_xlabel('Number of Clusters')\n",
    "ax2.set_ylabel('Silhouette Score')\n",
    "ax2.set_title('Silhouette Scores For Optimal Number of Clusters')\n",
    "\n",
    "plt.show()"
   ]
  },
  {
   "cell_type": "code",
   "execution_count": 104,
   "metadata": {},
   "outputs": [],
   "source": [
    "k_optimal=5"
   ]
  },
  {
   "cell_type": "code",
   "execution_count": 105,
   "metadata": {},
   "outputs": [],
   "source": [
    "## Fit the model"
   ]
  },
  {
   "cell_type": "code",
   "execution_count": 106,
   "metadata": {},
   "outputs": [],
   "source": [
    "kmeans = KMeans(n_clusters=k_optimal, random_state=42)"
   ]
  },
  {
   "cell_type": "code",
   "execution_count": 107,
   "metadata": {},
   "outputs": [
    {
     "name": "stderr",
     "output_type": "stream",
     "text": [
      "c:\\Users\\gabb_\\anaconda3\\Lib\\site-packages\\sklearn\\cluster\\_kmeans.py:1412: FutureWarning:\n",
      "\n",
      "The default value of `n_init` will change from 10 to 'auto' in 1.4. Set the value of `n_init` explicitly to suppress the warning\n",
      "\n",
      "c:\\Users\\gabb_\\anaconda3\\Lib\\site-packages\\sklearn\\cluster\\_kmeans.py:1436: UserWarning:\n",
      "\n",
      "KMeans is known to have a memory leak on Windows with MKL, when there are less chunks than available threads. You can avoid it by setting the environment variable OMP_NUM_THREADS=2.\n",
      "\n"
     ]
    }
   ],
   "source": [
    "fmd_table_no_outliers['Cluster'] = kmeans.fit_predict(fmd_normalized)"
   ]
  },
  {
   "cell_type": "code",
   "execution_count": 108,
   "metadata": {},
   "outputs": [
    {
     "data": {
      "text/plain": [
       "<Axes: xlabel='Cluster', ylabel='Monetary'>"
      ]
     },
     "execution_count": 108,
     "metadata": {},
     "output_type": "execute_result"
    },
    {
     "data": {
      "image/png": "[encoded data removed]",
      "text/plain": [
       "<Figure size 640x480 with 1 Axes>"
      ]
     },
     "metadata": {},
     "output_type": "display_data"
    }
   ],
   "source": [
    "# Box plot to visualize Cluster Id vs Amount\n",
    "sns.boxplot(x='Cluster', y='Monetary', data=fmd_table_no_outliers)"
   ]
  },
  {
   "cell_type": "code",
   "execution_count": 109,
   "metadata": {},
   "outputs": [
    {
     "data": {
      "text/plain": [
       "<Axes: xlabel='Cluster', ylabel='Frequency'>"
      ]
     },
     "execution_count": 109,
     "metadata": {},
     "output_type": "execute_result"
    },
    {
     "data": {
      "image/png": "[encoded data removed]",
      "text/plain": [
       "<Figure size 640x480 with 1 Axes>"
      ]
     },
     "metadata": {},
     "output_type": "display_data"
    }
   ],
   "source": [
    "\n",
    "# Box plot to visualize Cluster Id vs Frequency\n",
    "sns.boxplot(x='Cluster', y='Frequency', data=fmd_table_no_outliers)"
   ]
  },
  {
   "cell_type": "code",
   "execution_count": 110,
   "metadata": {},
   "outputs": [
    {
     "data": {
      "text/plain": [
       "<Axes: xlabel='Cluster', ylabel='Total Discount'>"
      ]
     },
     "execution_count": 110,
     "metadata": {},
     "output_type": "execute_result"
    },
    {
     "data": {
      "image/png": "[encoded data removed]",
      "text/plain": [
       "<Figure size 640x480 with 1 Axes>"
      ]
     },
     "metadata": {},
     "output_type": "display_data"
    }
   ],
   "source": [
    "# Box plot to visualize Cluster Id vs Recency\n",
    "sns.boxplot(x='Cluster', y='Total Discount', data=fmd_table_no_outliers)"
   ]
  },
  {
   "cell_type": "code",
   "execution_count": 111,
   "metadata": {},
   "outputs": [],
   "source": [
    "fmd_table_no_outliers.head(3)\n",
    "rfm_analysis=fmd_table_no_outliers[['Frequency', 'Cluster', 'Monetary', 'Total Discount']]"
   ]
  },
  {
   "cell_type": "code",
   "execution_count": 112,
   "metadata": {},
   "outputs": [],
   "source": [
    "## Analyse the clusters"
   ]
  },
  {
   "cell_type": "code",
   "execution_count": 113,
   "metadata": {},
   "outputs": [
    {
     "name": "stdout",
     "output_type": "stream",
     "text": [
      "   Cluster    Frequency      Monetary  Total Discount\n",
      "0        0    54.411765   1726.758556       -0.034866\n",
      "1        1   524.230769  10803.698846       -0.195385\n",
      "2        2  1991.000000  40540.190000      -25.640000\n",
      "3        3   112.500000   6209.820000      -16.775000\n",
      "4        4  1161.368421  23021.670000       -0.367105\n"
     ]
    }
   ],
   "source": [
    "cluster_analysis = rfm_analysis.groupby('Cluster').mean().reset_index()\n",
    "print(cluster_analysis)"
   ]
  },
  {
   "cell_type": "code",
   "execution_count": 114,
   "metadata": {},
   "outputs": [
    {
     "name": "stderr",
     "output_type": "stream",
     "text": [
      "c:\\Users\\gabb_\\anaconda3\\Lib\\site-packages\\seaborn\\axisgrid.py:118: UserWarning:\n",
      "\n",
      "The figure layout has changed to tight\n",
      "\n"
     ]
    },
    {
     "data": {
      "image/png": "[encoded data removed]",
      "text/plain": [
       "<Figure size 810.361x750 with 12 Axes>"
      ]
     },
     "metadata": {},
     "output_type": "display_data"
    }
   ],
   "source": [
    "# Visualize clusters\n",
    "sns.pairplot(fmd_table_no_outliers, hue='Cluster', vars=['Frequency', 'Monetary', 'Total Discount'])\n",
    "plt.show()"
   ]
  },
  {
   "cell_type": "code",
   "execution_count": 115,
   "metadata": {},
   "outputs": [
    {
     "data": {
      "application/vnd.plotly.v1+json": {
       "config": {
        "plotlyServerURL": "https://plot.ly"
       },
       "data": [
        {
         "customdata": [
          [
           "2210327922511"
          ],
          [
           "2210450725811"
          ],
          [
           "22112211221111"
          ],
          [
           "2211500183511"
          ],
          [
           "2211604468611"
          ],
          [
           "2211650096911"
          ],
          [
           "2211700480511"
          ],
          [
           "2211800190811"
          ],
          [
           "2211800486111"
          ],
          [
           "2211800726511"
          ],
          [
           "2211800768611"
          ],
          [
           "2211800959111"
          ],
          [
           "2211801041211"
          ],
          [
           "2211801166711"
          ],
          [
           "2211801469511"
          ],
          [
           "2211801469911"
          ],
          [
           "2211801660011"
          ],
          [
           "2211801707911"
          ],
          [
           "2211801749911"
          ],
          [
           "2211802215811"
          ],
          [
           "2211802348411"
          ],
          [
           "2211802350211"
          ],
          [
           "2211802688611"
          ],
          [
           "2211803368111"
          ],
          [
           "2211803375611"
          ],
          [
           "2211803458011"
          ],
          [
           "2211803630011"
          ],
          [
           "2211803682711"
          ],
          [
           "2211803805911"
          ],
          [
           "2211804041611"
          ],
          [
           "2211804142911"
          ],
          [
           "2211804224611"
          ],
          [
           "2211851056311"
          ],
          [
           "2211851204811"
          ],
          [
           "2211851397211"
          ],
          [
           "2211851548911"
          ],
          [
           "2211851740111"
          ],
          [
           "2211851761111"
          ],
          [
           "2211852141011"
          ],
          [
           "2211854078411"
          ],
          [
           "2211854171911"
          ],
          [
           "2211854424511"
          ],
          [
           "2211854655211"
          ],
          [
           "2211854724111"
          ],
          [
           "2211854736211"
          ],
          [
           "2211854794611"
          ],
          [
           "2211854852111"
          ],
          [
           "2211855051511"
          ],
          [
           "2211855289311"
          ],
          [
           "2211855294311"
          ],
          [
           "2211855315511"
          ],
          [
           "2211855336511"
          ],
          [
           "2211855347911"
          ],
          [
           "2211855385511"
          ],
          [
           "2211855597111"
          ],
          [
           "2211855719611"
          ],
          [
           "2211855756911"
          ],
          [
           "2211855825911"
          ],
          [
           "2211855831611"
          ],
          [
           "2211855882511"
          ],
          [
           "2211855894611"
          ],
          [
           "2211855982011"
          ],
          [
           "2211857928511"
          ],
          [
           "2211857978711"
          ],
          [
           "2211858018411"
          ],
          [
           "2211858156011"
          ],
          [
           "2211858337611"
          ],
          [
           "2211858410811"
          ],
          [
           "2211858419311"
          ],
          [
           "2211858482711"
          ],
          [
           "2211858648611"
          ],
          [
           "22121082521016211"
          ],
          [
           "2212403334411"
          ],
          [
           "2212413860511"
          ],
          [
           "2212413942211"
          ],
          [
           "2212459651711"
          ],
          [
           "2212460497811"
          ],
          [
           "2212470236511"
          ],
          [
           "2212702810311"
          ],
          [
           "2212900990611"
          ],
          [
           "2213074603511"
          ],
          [
           "22131117935012111"
          ],
          [
           "2213399711"
          ],
          [
           "2214806934511"
          ],
          [
           "2217523087011"
          ],
          [
           "2220003761411"
          ],
          [
           "2220003827311"
          ],
          [
           "2220009615911"
          ],
          [
           "2220012093411"
          ],
          [
           "2220018955411"
          ],
          [
           "2220021623111"
          ],
          [
           "2220033393211"
          ],
          [
           "2220055156411"
          ],
          [
           "2220055499811"
          ],
          [
           "2220056147511"
          ],
          [
           "2220056866311"
          ],
          [
           "2220065976411"
          ],
          [
           "2220068093011"
          ],
          [
           "2220071825511"
          ],
          [
           "2220082061611"
          ],
          [
           "2220086873911"
          ],
          [
           "2220097416911"
          ],
          [
           "2220100123511"
          ],
          [
           "2220105928811"
          ],
          [
           "2220109468411"
          ],
          [
           "2220110648511"
          ],
          [
           "2220111239911"
          ],
          [
           "2220114503611"
          ],
          [
           "2220126994511"
          ],
          [
           "2220132407811"
          ],
          [
           "2220132832211"
          ],
          [
           "2220140399911"
          ],
          [
           "2220144974011"
          ],
          [
           "2220146833111"
          ],
          [
           "2220148807011"
          ],
          [
           "2220156068711"
          ],
          [
           "2220161680511"
          ],
          [
           "2220162057911"
          ],
          [
           "2220168220711"
          ],
          [
           "2220181370011"
          ],
          [
           "2220185274111"
          ],
          [
           "2220192333411"
          ],
          [
           "2220195739311"
          ],
          [
           "2220202755311"
          ],
          [
           "2220203239711"
          ],
          [
           "2220209278211"
          ],
          [
           "2220210811911"
          ],
          [
           "2220213062811"
          ],
          [
           "2220216930711"
          ],
          [
           "2220222046311"
          ],
          [
           "2220226991611"
          ],
          [
           "2220233191211"
          ],
          [
           "2220239971011"
          ],
          [
           "2220257686511"
          ],
          [
           "2220260424311"
          ],
          [
           "2220272337911"
          ],
          [
           "2220279918811"
          ],
          [
           "2220294134211"
          ],
          [
           "2220298480011"
          ],
          [
           "2220300344111"
          ],
          [
           "2220301030411"
          ],
          [
           "2220307569311"
          ],
          [
           "2220316247911"
          ],
          [
           "2220330360611"
          ],
          [
           "2220336011211"
          ],
          [
           "2220339157011"
          ],
          [
           "2220345153711"
          ],
          [
           "2220351241711"
          ],
          [
           "2220351252011"
          ],
          [
           "2220351348311"
          ],
          [
           "2220354627311"
          ],
          [
           "2220355051011"
          ],
          [
           "2220368564311"
          ],
          [
           "2220368566811"
          ],
          [
           "2220371578011"
          ],
          [
           "2220377434811"
          ],
          [
           "2220385283611"
          ],
          [
           "2220385892811"
          ],
          [
           "2220387451211"
          ],
          [
           "2220394056711"
          ],
          [
           "2220395905111"
          ],
          [
           "2220397834711"
          ],
          [
           "2220400069711"
          ],
          [
           "2220400206811"
          ],
          [
           "2220403174611"
          ],
          [
           "2220405396311"
          ],
          [
           "2220431663111"
          ],
          [
           "2220435611311"
          ],
          [
           "2220435634811"
          ],
          [
           "2220437489411"
          ],
          [
           "2220439940611"
          ],
          [
           "2220440968311"
          ],
          [
           "2220447047611"
          ],
          [
           "2220450695811"
          ],
          [
           "2220451295011"
          ],
          [
           "2220474081511"
          ],
          [
           "2220474296911"
          ],
          [
           "2220484610511"
          ],
          [
           "2220488742711"
          ],
          [
           "2220496959011"
          ],
          [
           "2220498945311"
          ],
          [
           "2220505796811"
          ],
          [
           "2220507280311"
          ],
          [
           "2220522900111"
          ],
          [
           "2220522977711"
          ],
          [
           "2220528442111"
          ],
          [
           "2220536929111"
          ],
          [
           "222054834211"
          ],
          [
           "2220549945211"
          ],
          [
           "2220553661611"
          ],
          [
           "2220559309711"
          ],
          [
           "2220559715611"
          ],
          [
           "2220561749111"
          ],
          [
           "2220562302811"
          ],
          [
           "2220563861011"
          ],
          [
           "2220571336511"
          ],
          [
           "2220572116611"
          ],
          [
           "2220576345711"
          ],
          [
           "2220577345111"
          ],
          [
           "2220578594111"
          ],
          [
           "2220578870611"
          ],
          [
           "2220581414711"
          ],
          [
           "2220592880211"
          ],
          [
           "2220594308111"
          ],
          [
           "2220594828111"
          ],
          [
           "2220596430711"
          ],
          [
           "2220597728211"
          ],
          [
           "2220598840411"
          ],
          [
           "2220600361011"
          ],
          [
           "2220601993111"
          ],
          [
           "2220606011911"
          ],
          [
           "2220606569711"
          ],
          [
           "2220609438911"
          ],
          [
           "2220615761911"
          ],
          [
           "2220620851911"
          ],
          [
           "2220627922411"
          ],
          [
           "2220628290011"
          ],
          [
           "2220629401611"
          ],
          [
           "2220632795011"
          ],
          [
           "2220639758911"
          ],
          [
           "2220647685511"
          ],
          [
           "2220649874111"
          ],
          [
           "2220651185411"
          ],
          [
           "2220652213511"
          ],
          [
           "2220654866011"
          ],
          [
           "2220656127311"
          ],
          [
           "2220657687311"
          ],
          [
           "2220658037311"
          ],
          [
           "2220660542811"
          ],
          [
           "2220666157611"
          ],
          [
           "2220674381711"
          ],
          [
           "2220675150411"
          ],
          [
           "2220676002611"
          ],
          [
           "2220677095511"
          ],
          [
           "2220677532711"
          ],
          [
           "2220678720111"
          ],
          [
           "2220687540211"
          ],
          [
           "2220689355311"
          ],
          [
           "2220690910711"
          ],
          [
           "2220691749511"
          ],
          [
           "2220696114211"
          ],
          [
           "2220698337411"
          ],
          [
           "2220702953311"
          ],
          [
           "2220714340511"
          ],
          [
           "2220716146711"
          ],
          [
           "2220729277611"
          ],
          [
           "2220731847711"
          ],
          [
           "2220740205311"
          ],
          [
           "2220754538211"
          ],
          [
           "22540915111111"
          ],
          [
           "2255254311"
          ],
          [
           "2255255011"
          ],
          [
           "2255902511"
          ],
          [
           "2255948411"
          ],
          [
           "2256553711"
          ],
          [
           "2258111956411"
          ],
          [
           "22661009142211"
          ],
          [
           "22670721562411"
          ],
          [
           "22686868686811"
          ],
          [
           "22720713111111"
          ],
          [
           "22770505111111"
          ],
          [
           "2282800018811"
          ],
          [
           "2282800208211"
          ],
          [
           "2282800226011"
          ],
          [
           "2282801280211"
          ],
          [
           "2282801643811"
          ],
          [
           "2282801742611"
          ],
          [
           "2282801804011"
          ],
          [
           "2282801916711"
          ],
          [
           "2282802384911"
          ],
          [
           "2282802414211"
          ],
          [
           "2282802584711"
          ],
          [
           "2282802818011"
          ],
          [
           "2282803299011"
          ],
          [
           "2282803464611"
          ],
          [
           "2282803604911"
          ],
          [
           "2282804267111"
          ],
          [
           "2282804554511"
          ],
          [
           "2282805028711"
          ],
          [
           "2282806850611"
          ]
         ],
         "hovertemplate": "Frequency=%{x}<br>Monetary=%{y}<br>Total Discount=%{z}<br>Customer ID=%{customdata[0]}<br>Cluster=%{marker.color}<extra></extra>",
         "legendgroup": "",
         "marker": {
          "color": [
           4,
           0,
           0,
           0,
           1,
           1,
           0,
           0,
           1,
           0,
           0,
           0,
           1,
           0,
           2,
           0,
           1,
           4,
           4,
           0,
           0,
           4,
           1,
           4,
           4,
           0,
           4,
           0,
           1,
           4,
           0,
           0,
           1,
           0,
           0,
           0,
           4,
           1,
           0,
           0,
           0,
           0,
           0,
           0,
           4,
           0,
           0,
           0,
           0,
           0,
           0,
           1,
           1,
           0,
           1,
           0,
           0,
           1,
           0,
           4,
           0,
           0,
           0,
           0,
           0,
           1,
           0,
           0,
           0,
           0,
           0,
           0,
           0,
           0,
           0,
           4,
           1,
           0,
           0,
           0,
           1,
           0,
           0,
           0,
           0,
           0,
           4,
           0,
           0,
           3,
           0,
           1,
           0,
           1,
           0,
           1,
           0,
           0,
           4,
           1,
           0,
           0,
           0,
           0,
           0,
           0,
           0,
           0,
           0,
           0,
           0,
           1,
           4,
           1,
           0,
           0,
           0,
           0,
           0,
           0,
           0,
           0,
           0,
           0,
           0,
           0,
           4,
           1,
           0,
           3,
           0,
           0,
           4,
           4,
           4,
           0,
           1,
           4,
           0,
           0,
           4,
           0,
           4,
           4,
           0,
           4,
           0,
           0,
           0,
           1,
           1,
           0,
           0,
           0,
           0,
           0,
           0,
           1,
           1,
           0,
           0,
           0,
           0,
           4,
           0,
           0,
           0,
           1,
           1,
           4,
           0,
           0,
           0,
           1,
           0,
           0,
           0,
           0,
           1,
           0,
           0,
           0,
           0,
           4,
           0,
           4,
           1,
           0,
           0,
           0,
           4,
           0,
           1,
           0,
           0,
           1,
           1,
           0,
           4,
           0,
           0,
           1,
           1,
           0,
           0,
           0,
           0,
           4,
           1,
           1,
           0,
           0,
           0,
           0,
           0,
           0,
           0,
           0,
           1,
           0,
           1,
           0,
           0,
           0,
           1,
           0,
           0,
           0,
           4,
           0,
           0,
           0,
           0,
           4,
           1,
           0,
           0,
           0,
           0,
           0,
           0,
           0,
           4,
           0,
           0,
           0,
           1,
           0,
           0,
           0,
           0,
           4,
           0,
           0,
           0,
           0,
           0,
           0,
           0,
           0,
           0,
           0,
           1,
           0,
           0,
           4,
           4,
           0,
           0,
           1,
           0,
           1,
           1,
           4,
           0,
           1,
           0,
           1,
           0,
           1
          ],
          "coloraxis": "coloraxis",
          "opacity": 0.6,
          "size": 5,
          "symbol": "circle"
         },
         "mode": "markers",
         "name": "",
         "scene": "scene",
         "showlegend": false,
         "type": "scatter3d",
         "x": [
          590,
          1,
          7,
          19,
          291,
          649,
          11,
          8,
          948,
          3,
          30,
          37,
          767,
          176,
          1991,
          316,
          465,
          1773,
          1893,
          6,
          1,
          1896,
          385,
          1211,
          1034,
          2,
          1062,
          8,
          348,
          1282,
          163,
          282,
          626,
          7,
          184,
          3,
          1425,
          313,
          67,
          163,
          10,
          34,
          1,
          84,
          1240,
          90,
          4,
          167,
          11,
          1,
          9,
          544,
          875,
          241,
          154,
          151,
          103,
          501,
          6,
          1242,
          98,
          60,
          10,
          241,
          9,
          565,
          16,
          28,
          15,
          58,
          17,
          4,
          2,
          49,
          1,
          1284,
          781,
          1,
          3,
          4,
          517,
          2,
          4,
          1,
          1,
          84,
          1345,
          5,
          5,
          215,
          4,
          451,
          163,
          863,
          252,
          542,
          1,
          43,
          1590,
          532,
          71,
          20,
          9,
          5,
          7,
          39,
          44,
          195,
          63,
          6,
          71,
          468,
          1440,
          604,
          15,
          17,
          4,
          107,
          15,
          62,
          84,
          55,
          1,
          17,
          52,
          2,
          1679,
          883,
          103,
          10,
          111,
          4,
          786,
          1128,
          802,
          187,
          661,
          201,
          1,
          2,
          1041,
          18,
          493,
          1104,
          63,
          1492,
          103,
          23,
          23,
          726,
          472,
          78,
          178,
          3,
          1,
          233,
          24,
          278,
          675,
          86,
          12,
          103,
          21,
          654,
          5,
          185,
          134,
          593,
          858,
          1132,
          2,
          17,
          25,
          708,
          121,
          167,
          23,
          1,
          1027,
          144,
          1,
          3,
          3,
          957,
          4,
          1131,
          912,
          26,
          128,
          11,
          1091,
          21,
          31,
          6,
          45,
          271,
          268,
          17,
          1138,
          25,
          24,
          379,
          559,
          115,
          66,
          8,
          36,
          1355,
          157,
          370,
          192,
          29,
          3,
          8,
          2,
          40,
          67,
          1,
          558,
          17,
          5,
          27,
          4,
          62,
          719,
          1,
          77,
          2,
          1417,
          280,
          46,
          141,
          146,
          741,
          152,
          3,
          10,
          31,
          43,
          254,
          15,
          19,
          653,
          250,
          6,
          34,
          311,
          2,
          126,
          12,
          129,
          1050,
          6,
          17,
          1,
          244,
          16,
          23,
          14,
          1,
          3,
          4,
          609,
          3,
          47,
          1431,
          1222,
          4,
          43,
          373,
          180,
          202,
          745,
          1127,
          105,
          564,
          91,
          569,
          6,
          436
         ],
         "y": [
          42527.11,
          80.18,
          61.35,
          2713.47,
          15108.01,
          20749.86,
          161.6,
          152.87,
          10714.24,
          114.15,
          719.65,
          436.5,
          9542.23,
          3036.72,
          40540.19,
          4313.21,
          9344.74,
          22649.03,
          22218.18,
          97.65,
          312.8,
          28854.45,
          6621.94,
          15596.05,
          14663.74,
          101.87,
          20500.35,
          55.86,
          8896.52,
          27620.11,
          4432.29,
          5060.67,
          9317.14,
          111.31,
          8156.3,
          221.48,
          25367.46,
          6289.19,
          1367.52,
          3352.39,
          138.56,
          3369.16,
          4096,
          2466.11,
          16067.74,
          2703.51,
          172.75,
          6215.1,
          306.51,
          71,
          1888.58,
          6627.65,
          13829.74,
          2659.06,
          16435.59,
          4206.85,
          1888.05,
          10640.64,
          523.44,
          16380.02,
          3150.42,
          5423.47,
          377.87,
          5842.18,
          81.76,
          8649.34,
          439.93,
          1343.84,
          330.31,
          1835.14,
          245.9,
          80,
          28.049999999999997,
          2292.98,
          9000,
          23460.04,
          13226.09,
          59.53,
          79.82,
          3922.38,
          8721.12,
          140.56,
          327.7,
          23.6,
          913,
          1760.74,
          17547.87,
          35.53,
          310.38,
          12172.33,
          146.53,
          5193.4,
          4046.28,
          13081.08,
          5436.51,
          7459.52,
          107.88,
          1950.59,
          17098.87,
          8940.77,
          3694.81,
          266.28000000000003,
          232.78,
          171.64,
          90.05,
          1105.37,
          3660.29,
          5901.89,
          1628.23,
          3658.79,
          1624.29,
          4829.85,
          36402.05,
          8471.66,
          852.92,
          2158.4700000000003,
          98.39,
          1988.53,
          295.42,
          597.96,
          2900.39,
          1647.66,
          108.99,
          266.66,
          3820.5,
          583.17,
          29400.88,
          12152.92,
          3737.38,
          247.31,
          1637.18,
          787.22,
          21999.41,
          14470.43,
          20755.72,
          2826.98,
          10254.26,
          46880.91,
          149.25,
          347.12,
          16476.4,
          340.86,
          34430.3,
          24029.74,
          6186.67,
          22385.49,
          5746.44,
          7032.17,
          2729.72,
          8791.47,
          12026.56,
          3848.37,
          2825.58,
          172.3,
          2197.05,
          1950.42,
          1935.96,
          13023.42,
          12152.88,
          858.86,
          310.16,
          2103.94,
          284.89,
          21489.14,
          469.54,
          5106.07,
          3839.23,
          9973.65,
          12375.31,
          20554.76,
          440,
          1346.3600000000001,
          228.25,
          8039.78,
          5416.67,
          2341.09,
          2012.86,
          144.08,
          10080.7,
          3135.77,
          30.5,
          93.00999999999999,
          38.32,
          20471.44,
          72.9,
          17150.16,
          13013.29,
          149.06,
          2691.99,
          289.22,
          12521.41,
          463.96,
          25615.93,
          172.34,
          3164.77,
          13845.33,
          8561.02,
          504.59999999999997,
          16310.16,
          990.73,
          260.24,
          13566.92,
          6804.6,
          3975.56,
          6519.349999999999,
          208.66,
          1274.1,
          20285.01,
          12825.73,
          5448.72,
          4090.79,
          5263.54,
          198.8,
          62.82,
          58.22,
          4204.2,
          1152.85,
          18,
          7296.96,
          424.5,
          19497.64,
          632.99,
          96.94999999999999,
          1121.8600000000001,
          12811.06,
          59.47,
          1109.75,
          62,
          15720.34,
          3178.7,
          301.85,
          6493.27,
          1974.11,
          29810.8,
          9607.41,
          158.6,
          1716.1599999999999,
          1247.43,
          1286.92,
          3810.82,
          459.61,
          345.99,
          22140.05,
          5527.79,
          214.6,
          680.01,
          7476.71,
          47.55,
          2671.47,
          95.08,
          1573.33,
          34856.98,
          568.34,
          433.7,
          377.9,
          2998.19,
          106.28,
          142.74,
          127.54,
          10.4,
          21.94,
          236.57999999999998,
          10809.72,
          94.64,
          3437.03,
          23970.61,
          22593.33,
          186.07,
          2232.0099999999998,
          11678.79,
          1823.3899999999999,
          19889.71,
          9962.12,
          19166.92,
          3930.49,
          6066.64,
          8601.33,
          10094.99,
          996.62,
          5357.78
         ],
         "z": [
          0,
          0,
          0,
          0,
          0,
          0,
          0,
          0,
          0,
          -3.5300000000000002,
          0,
          0,
          0,
          0,
          -25.64,
          0,
          0,
          0,
          -0.93,
          0,
          0,
          0,
          0,
          0,
          0,
          0,
          0,
          0,
          0,
          0,
          0,
          0,
          0,
          0,
          0,
          0,
          0,
          0,
          0,
          0,
          0,
          0,
          0,
          0,
          0,
          0,
          0,
          0,
          0,
          0,
          0,
          0,
          0,
          0,
          0,
          0,
          0,
          0,
          0,
          0,
          0,
          0,
          0,
          0,
          0,
          0,
          0,
          0,
          0,
          0,
          0,
          0,
          0,
          0,
          0,
          -5.58,
          0,
          0,
          0,
          0,
          0,
          0,
          0,
          0,
          0,
          0,
          0,
          0,
          0,
          -20.55,
          -2.99,
          0,
          0,
          0,
          0,
          0,
          0,
          0,
          0,
          0,
          0,
          0,
          0,
          0,
          0,
          0,
          0,
          0,
          0,
          0,
          0,
          0,
          0,
          0,
          0,
          0,
          0,
          0,
          0,
          0,
          0,
          0,
          0,
          0,
          0,
          0,
          0,
          0,
          0,
          -13,
          0,
          0,
          0,
          0,
          -3.72,
          0,
          0,
          0,
          0,
          0,
          0,
          0,
          0,
          0,
          0,
          0,
          0,
          0,
          0,
          0,
          0,
          0,
          0,
          0,
          0,
          0,
          0,
          0,
          0,
          0,
          0,
          0,
          0,
          0,
          0,
          0,
          0,
          0,
          -3.72,
          0,
          0,
          0,
          0,
          0,
          0,
          0,
          0,
          0,
          0,
          0,
          0,
          0,
          0,
          0,
          0,
          0,
          0,
          0,
          0,
          0,
          0,
          0,
          0,
          0,
          0,
          -6.44,
          0,
          0,
          0,
          0,
          0,
          0,
          0,
          0,
          0,
          0,
          0,
          0,
          0,
          0,
          0,
          0,
          0,
          0,
          0,
          0,
          0,
          0,
          0,
          0,
          0,
          0,
          0,
          0,
          0,
          0,
          0,
          0,
          0,
          0,
          0,
          0,
          0,
          0,
          0,
          0,
          0,
          0,
          0,
          0,
          0,
          0,
          0,
          0,
          0,
          0,
          0,
          0,
          0,
          0,
          0,
          -3.72,
          0,
          0,
          0,
          0,
          0,
          0,
          0,
          0,
          0,
          0,
          0,
          0,
          0,
          0,
          0,
          0,
          0,
          0,
          0,
          0,
          0,
          0,
          0,
          0,
          0,
          0,
          0,
          0
         ]
        }
       ],
       "layout": {
        "coloraxis": {
         "colorbar": {
          "title": {
           "text": "Cluster"
          }
         },
         "colorscale": [
          [
           0,
           "violet"
          ],
          [
           0.5,
           "white"
          ],
          [
           1,
           "green"
          ]
         ]
        },
        "font": {
         "color": "white"
        },
        "height": 800,
        "legend": {
         "tracegroupgap": 0
        },
        "paper_bgcolor": "black",
        "plot_bgcolor": "black",
        "scene": {
         "domain": {
          "x": [
           0,
           1
          ],
          "y": [
           0,
           1
          ]
         },
         "xaxis": {
          "backgroundcolor": "black",
          "title": {
           "text": "Frequency"
          }
         },
         "yaxis": {
          "backgroundcolor": "black",
          "title": {
           "text": "Monetary"
          }
         },
         "zaxis": {
          "backgroundcolor": "black",
          "title": {
           "text": "Total Discount"
          }
         }
        },
        "template": {
         "data": {
          "bar": [
           {
            "error_x": {
             "color": "#2a3f5f"
            },
            "error_y": {
             "color": "#2a3f5f"
            },
            "marker": {
             "line": {
              "color": "#E5ECF6",
              "width": 0.5
             },
             "pattern": {
              "fillmode": "overlay",
              "size": 10,
              "solidity": 0.2
             }
            },
            "type": "bar"
           }
          ],
          "barpolar": [
           {
            "marker": {
             "line": {
              "color": "#E5ECF6",
              "width": 0.5
             },
             "pattern": {
              "fillmode": "overlay",
              "size": 10,
              "solidity": 0.2
             }
            },
            "type": "barpolar"
           }
          ],
          "carpet": [
           {
            "aaxis": {
             "endlinecolor": "#2a3f5f",
             "gridcolor": "white",
             "linecolor": "white",
             "minorgridcolor": "white",
             "startlinecolor": "#2a3f5f"
            },
            "baxis": {
             "endlinecolor": "#2a3f5f",
             "gridcolor": "white",
             "linecolor": "white",
             "minorgridcolor": "white",
             "startlinecolor": "#2a3f5f"
            },
            "type": "carpet"
           }
          ],
          "choropleth": [
           {
            "colorbar": {
             "outlinewidth": 0,
             "ticks": ""
            },
            "type": "choropleth"
           }
          ],
          "contour": [
           {
            "colorbar": {
             "outlinewidth": 0,
             "ticks": ""
            },
            "colorscale": [
             [
              0,
              "#0d0887"
             ],
             [
              0.1111111111111111,
              "#46039f"
             ],
             [
              0.2222222222222222,
              "#7201a8"
             ],
             [
              0.3333333333333333,
              "#9c179e"
             ],
             [
              0.4444444444444444,
              "#bd3786"
             ],
             [
              0.5555555555555556,
              "#d8576b"
             ],
             [
              0.6666666666666666,
              "#ed7953"
             ],
             [
              0.7777777777777778,
              "#fb9f3a"
             ],
             [
              0.8888888888888888,
              "#fdca26"
             ],
             [
              1,
              "#f0f921"
             ]
            ],
            "type": "contour"
           }
          ],
          "contourcarpet": [
           {
            "colorbar": {
             "outlinewidth": 0,
             "ticks": ""
            },
            "type": "contourcarpet"
           }
          ],
          "heatmap": [
           {
            "colorbar": {
             "outlinewidth": 0,
             "ticks": ""
            },
            "colorscale": [
             [
              0,
              "#0d0887"
             ],
             [
              0.1111111111111111,
              "#46039f"
             ],
             [
              0.2222222222222222,
              "#7201a8"
             ],
             [
              0.3333333333333333,
              "#9c179e"
             ],
             [
              0.4444444444444444,
              "#bd3786"
             ],
             [
              0.5555555555555556,
              "#d8576b"
             ],
             [
              0.6666666666666666,
              "#ed7953"
             ],
             [
              0.7777777777777778,
              "#fb9f3a"
             ],
             [
              0.8888888888888888,
              "#fdca26"
             ],
             [
              1,
              "#f0f921"
             ]
            ],
            "type": "heatmap"
           }
          ],
          "heatmapgl": [
           {
            "colorbar": {
             "outlinewidth": 0,
             "ticks": ""
            },
            "colorscale": [
             [
              0,
              "#0d0887"
             ],
             [
              0.1111111111111111,
              "#46039f"
             ],
             [
              0.2222222222222222,
              "#7201a8"
             ],
             [
              0.3333333333333333,
              "#9c179e"
             ],
             [
              0.4444444444444444,
              "#bd3786"
             ],
             [
              0.5555555555555556,
              "#d8576b"
             ],
             [
              0.6666666666666666,
              "#ed7953"
             ],
             [
              0.7777777777777778,
              "#fb9f3a"
             ],
             [
              0.8888888888888888,
              "#fdca26"
             ],
             [
              1,
              "#f0f921"
             ]
            ],
            "type": "heatmapgl"
           }
          ],
          "histogram": [
           {
            "marker": {
             "pattern": {
              "fillmode": "overlay",
              "size": 10,
              "solidity": 0.2
             }
            },
            "type": "histogram"
           }
          ],
          "histogram2d": [
           {
            "colorbar": {
             "outlinewidth": 0,
             "ticks": ""
            },
            "colorscale": [
             [
              0,
              "#0d0887"
             ],
             [
              0.1111111111111111,
              "#46039f"
             ],
             [
              0.2222222222222222,
              "#7201a8"
             ],
             [
              0.3333333333333333,
              "#9c179e"
             ],
             [
              0.4444444444444444,
              "#bd3786"
             ],
             [
              0.5555555555555556,
              "#d8576b"
             ],
             [
              0.6666666666666666,
              "#ed7953"
             ],
             [
              0.7777777777777778,
              "#fb9f3a"
             ],
             [
              0.8888888888888888,
              "#fdca26"
             ],
             [
              1,
              "#f0f921"
             ]
            ],
            "type": "histogram2d"
           }
          ],
          "histogram2dcontour": [
           {
            "colorbar": {
             "outlinewidth": 0,
             "ticks": ""
            },
            "colorscale": [
             [
              0,
              "#0d0887"
             ],
             [
              0.1111111111111111,
              "#46039f"
             ],
             [
              0.2222222222222222,
              "#7201a8"
             ],
             [
              0.3333333333333333,
              "#9c179e"
             ],
             [
              0.4444444444444444,
              "#bd3786"
             ],
             [
              0.5555555555555556,
              "#d8576b"
             ],
             [
              0.6666666666666666,
              "#ed7953"
             ],
             [
              0.7777777777777778,
              "#fb9f3a"
             ],
             [
              0.8888888888888888,
              "#fdca26"
             ],
             [
              1,
              "#f0f921"
             ]
            ],
            "type": "histogram2dcontour"
           }
          ],
          "mesh3d": [
           {
            "colorbar": {
             "outlinewidth": 0,
             "ticks": ""
            },
            "type": "mesh3d"
           }
          ],
          "parcoords": [
           {
            "line": {
             "colorbar": {
              "outlinewidth": 0,
              "ticks": ""
             }
            },
            "type": "parcoords"
           }
          ],
          "pie": [
           {
            "automargin": true,
            "type": "pie"
           }
          ],
          "scatter": [
           {
            "fillpattern": {
             "fillmode": "overlay",
             "size": 10,
             "solidity": 0.2
            },
            "type": "scatter"
           }
          ],
          "scatter3d": [
           {
            "line": {
             "colorbar": {
              "outlinewidth": 0,
              "ticks": ""
             }
            },
            "marker": {
             "colorbar": {
              "outlinewidth": 0,
              "ticks": ""
             }
            },
            "type": "scatter3d"
           }
          ],
          "scattercarpet": [
           {
            "marker": {
             "colorbar": {
              "outlinewidth": 0,
              "ticks": ""
             }
            },
            "type": "scattercarpet"
           }
          ],
          "scattergeo": [
           {
            "marker": {
             "colorbar": {
              "outlinewidth": 0,
              "ticks": ""
             }
            },
            "type": "scattergeo"
           }
          ],
          "scattergl": [
           {
            "marker": {
             "colorbar": {
              "outlinewidth": 0,
              "ticks": ""
             }
            },
            "type": "scattergl"
           }
          ],
          "scattermapbox": [
           {
            "marker": {
             "colorbar": {
              "outlinewidth": 0,
              "ticks": ""
             }
            },
            "type": "scattermapbox"
           }
          ],
          "scatterpolar": [
           {
            "marker": {
             "colorbar": {
              "outlinewidth": 0,
              "ticks": ""
             }
            },
            "type": "scatterpolar"
           }
          ],
          "scatterpolargl": [
           {
            "marker": {
             "colorbar": {
              "outlinewidth": 0,
              "ticks": ""
             }
            },
            "type": "scatterpolargl"
           }
          ],
          "scatterternary": [
           {
            "marker": {
             "colorbar": {
              "outlinewidth": 0,
              "ticks": ""
             }
            },
            "type": "scatterternary"
           }
          ],
          "surface": [
           {
            "colorbar": {
             "outlinewidth": 0,
             "ticks": ""
            },
            "colorscale": [
             [
              0,
              "#0d0887"
             ],
             [
              0.1111111111111111,
              "#46039f"
             ],
             [
              0.2222222222222222,
              "#7201a8"
             ],
             [
              0.3333333333333333,
              "#9c179e"
             ],
             [
              0.4444444444444444,
              "#bd3786"
             ],
             [
              0.5555555555555556,
              "#d8576b"
             ],
             [
              0.6666666666666666,
              "#ed7953"
             ],
             [
              0.7777777777777778,
              "#fb9f3a"
             ],
             [
              0.8888888888888888,
              "#fdca26"
             ],
             [
              1,
              "#f0f921"
             ]
            ],
            "type": "surface"
           }
          ],
          "table": [
           {
            "cells": {
             "fill": {
              "color": "#EBF0F8"
             },
             "line": {
              "color": "white"
             }
            },
            "header": {
             "fill": {
              "color": "#C8D4E3"
             },
             "line": {
              "color": "white"
             }
            },
            "type": "table"
           }
          ]
         },
         "layout": {
          "annotationdefaults": {
           "arrowcolor": "#2a3f5f",
           "arrowhead": 0,
           "arrowwidth": 1
          },
          "autotypenumbers": "strict",
          "coloraxis": {
           "colorbar": {
            "outlinewidth": 0,
            "ticks": ""
           }
          },
          "colorscale": {
           "diverging": [
            [
             0,
             "#8e0152"
            ],
            [
             0.1,
             "#c51b7d"
            ],
            [
             0.2,
             "#de77ae"
            ],
            [
             0.3,
             "#f1b6da"
            ],
            [
             0.4,
             "#fde0ef"
            ],
            [
             0.5,
             "#f7f7f7"
            ],
            [
             0.6,
             "#e6f5d0"
            ],
            [
             0.7,
             "#b8e186"
            ],
            [
             0.8,
             "#7fbc41"
            ],
            [
             0.9,
             "#4d9221"
            ],
            [
             1,
             "#276419"
            ]
           ],
           "sequential": [
            [
             0,
             "#0d0887"
            ],
            [
             0.1111111111111111,
             "#46039f"
            ],
            [
             0.2222222222222222,
             "#7201a8"
            ],
            [
             0.3333333333333333,
             "#9c179e"
            ],
            [
             0.4444444444444444,
             "#bd3786"
            ],
            [
             0.5555555555555556,
             "#d8576b"
            ],
            [
             0.6666666666666666,
             "#ed7953"
            ],
            [
             0.7777777777777778,
             "#fb9f3a"
            ],
            [
             0.8888888888888888,
             "#fdca26"
            ],
            [
             1,
             "#f0f921"
            ]
           ],
           "sequentialminus": [
            [
             0,
             "#0d0887"
            ],
            [
             0.1111111111111111,
             "#46039f"
            ],
            [
             0.2222222222222222,
             "#7201a8"
            ],
            [
             0.3333333333333333,
             "#9c179e"
            ],
            [
             0.4444444444444444,
             "#bd3786"
            ],
            [
             0.5555555555555556,
             "#d8576b"
            ],
            [
             0.6666666666666666,
             "#ed7953"
            ],
            [
             0.7777777777777778,
             "#fb9f3a"
            ],
            [
             0.8888888888888888,
             "#fdca26"
            ],
            [
             1,
             "#f0f921"
            ]
           ]
          },
          "colorway": [
           "#636efa",
           "#EF553B",
           "#00cc96",
           "#ab63fa",
           "#FFA15A",
           "#19d3f3",
           "#FF6692",
           "#B6E880",
           "#FF97FF",
           "#FECB52"
          ],
          "font": {
           "color": "#2a3f5f"
          },
          "geo": {
           "bgcolor": "white",
           "lakecolor": "white",
           "landcolor": "#E5ECF6",
           "showlakes": true,
           "showland": true,
           "subunitcolor": "white"
          },
          "hoverlabel": {
           "align": "left"
          },
          "hovermode": "closest",
          "mapbox": {
           "style": "light"
          },
          "paper_bgcolor": "white",
          "plot_bgcolor": "#E5ECF6",
          "polar": {
           "angularaxis": {
            "gridcolor": "white",
            "linecolor": "white",
            "ticks": ""
           },
           "bgcolor": "#E5ECF6",
           "radialaxis": {
            "gridcolor": "white",
            "linecolor": "white",
            "ticks": ""
           }
          },
          "scene": {
           "xaxis": {
            "backgroundcolor": "#E5ECF6",
            "gridcolor": "white",
            "gridwidth": 2,
            "linecolor": "white",
            "showbackground": true,
            "ticks": "",
            "zerolinecolor": "white"
           },
           "yaxis": {
            "backgroundcolor": "#E5ECF6",
            "gridcolor": "white",
            "gridwidth": 2,
            "linecolor": "white",
            "showbackground": true,
            "ticks": "",
            "zerolinecolor": "white"
           },
           "zaxis": {
            "backgroundcolor": "#E5ECF6",
            "gridcolor": "white",
            "gridwidth": 2,
            "linecolor": "white",
            "showbackground": true,
            "ticks": "",
            "zerolinecolor": "white"
           }
          },
          "shapedefaults": {
           "line": {
            "color": "#2a3f5f"
           }
          },
          "ternary": {
           "aaxis": {
            "gridcolor": "white",
            "linecolor": "white",
            "ticks": ""
           },
           "baxis": {
            "gridcolor": "white",
            "linecolor": "white",
            "ticks": ""
           },
           "bgcolor": "#E5ECF6",
           "caxis": {
            "gridcolor": "white",
            "linecolor": "white",
            "ticks": ""
           }
          },
          "title": {
           "x": 0.05
          },
          "xaxis": {
           "automargin": true,
           "gridcolor": "white",
           "linecolor": "white",
           "ticks": "",
           "title": {
            "standoff": 15
           },
           "zerolinecolor": "white",
           "zerolinewidth": 2
          },
          "yaxis": {
           "automargin": true,
           "gridcolor": "white",
           "linecolor": "white",
           "ticks": "",
           "title": {
            "standoff": 15
           },
           "zerolinecolor": "white",
           "zerolinewidth": 2
          }
         }
        },
        "title": {
         "text": "3D Scatter Plot of FMD"
        },
        "width": 1200
       }
      }
     },
     "metadata": {},
     "output_type": "display_data"
    }
   ],
   "source": [
    "# 3D Scatter Plot using Plotly Express for k=2 with customizations\n",
    "fig = px.scatter_3d(fmd_table_no_outliers, x='Frequency', y='Monetary', z='Total Discount', color='Cluster',\n",
    "                    title=f'3D Scatter Plot of FMD',\n",
    "                    hover_data=['Customer ID', 'Frequency', 'Monetary', 'Total Discount'],\n",
    "                    color_continuous_scale=['violet', 'white', 'green'])\n",
    "\n",
    "# Update layout for background color and marker properties\n",
    "fig.update_layout(\n",
    "    scene=dict(\n",
    "        xaxis=dict(backgroundcolor=\"black\"),\n",
    "        yaxis=dict(backgroundcolor=\"black\"),\n",
    "        zaxis=dict(backgroundcolor=\"black\"),\n",
    "    ),\n",
    "    paper_bgcolor=\"black\",\n",
    "    plot_bgcolor=\"black\",\n",
    "    font=dict(color='white'),\n",
    "    width=1200,  # Increase width\n",
    "    height=800  # Increase height\n",
    ")\n",
    "\n",
    "# Update marker properties\n",
    "fig.update_traces(marker=dict(size=5, opacity=0.6))\n",
    "\n",
    "# Show the plot\n",
    "fig.show()"
   ]
  },
  {
   "cell_type": "code",
   "execution_count": 117,
   "metadata": {},
   "outputs": [
    {
     "data": {
      "text/html": [
       "<div>\n",
       "<style scoped>\n",
       "    .dataframe tbody tr th:only-of-type {\n",
       "        vertical-align: middle;\n",
       "    }\n",
       "\n",
       "    .dataframe tbody tr th {\n",
       "        vertical-align: top;\n",
       "    }\n",
       "\n",
       "    .dataframe thead th {\n",
       "        text-align: right;\n",
       "    }\n",
       "</style>\n",
       "<table border=\"1\" class=\"dataframe\">\n",
       "  <thead>\n",
       "    <tr style=\"text-align: right;\">\n",
       "      <th></th>\n",
       "      <th>Customer ID</th>\n",
       "      <th>Frequency</th>\n",
       "      <th>Monetary</th>\n",
       "      <th>Total Discount</th>\n",
       "      <th>Cluster</th>\n",
       "    </tr>\n",
       "  </thead>\n",
       "  <tbody>\n",
       "    <tr>\n",
       "      <th>1</th>\n",
       "      <td>2210327922511</td>\n",
       "      <td>590</td>\n",
       "      <td>42527.11</td>\n",
       "      <td>0.0</td>\n",
       "      <td>4</td>\n",
       "    </tr>\n",
       "    <tr>\n",
       "      <th>2</th>\n",
       "      <td>2210450725811</td>\n",
       "      <td>1</td>\n",
       "      <td>80.18</td>\n",
       "      <td>0.0</td>\n",
       "      <td>0</td>\n",
       "    </tr>\n",
       "  </tbody>\n",
       "</table>\n",
       "</div>"
      ],
      "text/plain": [
       "     Customer ID  Frequency  Monetary  Total Discount  Cluster\n",
       "1  2210327922511        590  42527.11             0.0        4\n",
       "2  2210450725811          1     80.18             0.0        0"
      ]
     },
     "execution_count": 117,
     "metadata": {},
     "output_type": "execute_result"
    }
   ],
   "source": [
    "fmd_table_no_outliers.head(2)"
   ]
  },
  {
   "cell_type": "code",
   "execution_count": 118,
   "metadata": {},
   "outputs": [],
   "source": [
    "fmd_table_no_outliers.to_csv('cluster_report.csv', index=False)"
   ]
  }
 ],
 "metadata": {
  "kernelspec": {
   "display_name": "base",
   "language": "python",
   "name": "python3"
  },
  "language_info": {
   "codemirror_mode": {
    "name": "ipython",
    "version": 3
   },
   "file_extension": ".py",
   "mimetype": "text/x-python",
   "name": "python",
   "nbconvert_exporter": "python",
   "pygments_lexer": "ipython3",
   "version": "3.11.5"
  }
 },
 "nbformat": 4,
 "nbformat_minor": 2
}
